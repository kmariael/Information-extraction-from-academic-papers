{
  "nbformat": 4,
  "nbformat_minor": 0,
  "metadata": {
    "colab": {
      "provenance": [],
      "collapsed_sections": [
        "cKTHViDdFry5",
        "T7PVns6c5DU5",
        "bZjQhsRsSxQr",
        "nuWPpwV47mjF",
        "zLuZ6MimqdH1",
        "ukgxMPl3CGzg",
        "6lbr8Q_qhzdG",
        "8VDCc5Ni2HPm",
        "PQFkFKukNj1a",
        "oYheQUdwNehT",
        "LxPwyoixapHg",
        "KZN_PSJHZ58f",
        "lncTpptgaBTM",
        "Gk4_gNFAHSxN",
        "bZAC3n9b19BY",
        "TDs3JIRLIkBr",
        "0kH5sOKoTGPk",
        "NUw-TgnW2wtx",
        "ok8y1UzBj30H",
        "ARWacP6mj71i",
        "LmwOKQJZFcSP",
        "F1PnGYfnoxB5",
        "QWDtMcfio57Y",
        "IJxD7Fg-T9sW"
      ]
    },
    "kernelspec": {
      "name": "python3",
      "display_name": "Python 3"
    },
    "language_info": {
      "name": "python"
    }
  },
  "cells": [
    {
      "cell_type": "markdown",
      "metadata": {
        "id": "DK_BXHL2SIVU"
      },
      "source": [
        "# Initializations\n"
      ]
    },
    {
      "cell_type": "code",
      "execution_count": null,
      "metadata": {
        "id": "kzjDFkEDsN02"
      },
      "outputs": [],
      "source": [
        "!nvcc --version"
      ]
    },
    {
      "cell_type": "code",
      "execution_count": null,
      "metadata": {
        "id": "aj8IK_Y2szS4"
      },
      "outputs": [],
      "source": [
        "!pip install spacy==3.3\n",
        "!pip install 'spacy[transformers,cuda_111]'"
      ]
    },
    {
      "cell_type": "code",
      "execution_count": null,
      "metadata": {
        "id": "y5V0Xd75f_SO"
      },
      "outputs": [],
      "source": [
        "from google.colab import drive\n",
        "drive.mount('/content/drive')"
      ]
    },
    {
      "cell_type": "markdown",
      "source": [
        "# Add metadata to annotations"
      ],
      "metadata": {
        "id": "aLQ84sO2WP8w"
      }
    },
    {
      "cell_type": "code",
      "execution_count": null,
      "metadata": {
        "id": "orzAEebtJJrz"
      },
      "outputs": [],
      "source": [
        "import pandas as pd\n",
        "\n",
        "path1 = pd.read_json(\"/content/ner_1617.jsonl\", lines=True)\n",
        "df1 = pd.DataFrame(path1)\n",
        "\n",
        "path2 = pd.read_json(\"/content/full_cleaned_20000-23999bb.jsonl\", lines=True)\n",
        "df2 = pd.DataFrame(path2)"
      ]
    },
    {
      "cell_type": "code",
      "execution_count": null,
      "metadata": {
        "colab": {
          "base_uri": "https://localhost:8080/",
          "height": 319
        },
        "id": "34YTKEREJ2tB",
        "outputId": "015deec1-a5af-459c-f1ac-1985cd878305"
      },
      "outputs": [
        {
          "output_type": "execute_result",
          "data": {
            "text/plain": [
              "                                                text  \\\n",
              "0  Most of the characteristic species of the Ross...   \n",
              "1  They considered this sufficient evidence to ju...   \n",
              "2  The latter specimen was identified tentatively...   \n",
              "3  Other phosphatic microfossils were found in sa...   \n",
              "4  Ordovician co nodont elements were found in Sa...   \n",
              "\n",
              "                                               spans  _input_hash  _task_hash  \\\n",
              "0  [{'start': 0, 'end': 195, 'token_start': 0, 't...   1883934775  -282210548   \n",
              "1                                                 []   -790869961 -1917123859   \n",
              "2  [{'start': 0, 'end': 138, 'token_start': 0, 't...   1164894021 -1535474047   \n",
              "3  [{'start': 0, 'end': 124, 'label': 'ACTIVITY',...     43492893  1447089060   \n",
              "4                                                 []   1303462793   850938134   \n",
              "\n",
              "                                              tokens      _view_id  answer  \\\n",
              "0  [{'text': 'Most', 'start': 0, 'end': 4, 'id': ...  spans_manual  accept   \n",
              "1  [{'text': 'They', 'start': 0, 'end': 4, 'id': ...  spans_manual  accept   \n",
              "2  [{'text': 'The', 'start': 0, 'end': 3, 'id': 0...  spans_manual  accept   \n",
              "3  [{'text': 'Other', 'start': 0, 'end': 5, 'id':...  spans_manual  accept   \n",
              "4  [{'text': 'Ordovician', 'start': 0, 'end': 10,...  spans_manual  accept   \n",
              "\n",
              "   _timestamp  \n",
              "0  1665142410  \n",
              "1  1665142411  \n",
              "2  1665142412  \n",
              "3  1665142413  \n",
              "4  1665142414  "
            ],
            "text/html": [
              "\n",
              "  <div id=\"df-ebc54ca2-fcb6-4e2c-a1f8-be6b3f2ebbec\">\n",
              "    <div class=\"colab-df-container\">\n",
              "      <div>\n",
              "<style scoped>\n",
              "    .dataframe tbody tr th:only-of-type {\n",
              "        vertical-align: middle;\n",
              "    }\n",
              "\n",
              "    .dataframe tbody tr th {\n",
              "        vertical-align: top;\n",
              "    }\n",
              "\n",
              "    .dataframe thead th {\n",
              "        text-align: right;\n",
              "    }\n",
              "</style>\n",
              "<table border=\"1\" class=\"dataframe\">\n",
              "  <thead>\n",
              "    <tr style=\"text-align: right;\">\n",
              "      <th></th>\n",
              "      <th>text</th>\n",
              "      <th>spans</th>\n",
              "      <th>_input_hash</th>\n",
              "      <th>_task_hash</th>\n",
              "      <th>tokens</th>\n",
              "      <th>_view_id</th>\n",
              "      <th>answer</th>\n",
              "      <th>_timestamp</th>\n",
              "    </tr>\n",
              "  </thead>\n",
              "  <tbody>\n",
              "    <tr>\n",
              "      <th>0</th>\n",
              "      <td>Most of the characteristic species of the Ross...</td>\n",
              "      <td>[{'start': 0, 'end': 195, 'token_start': 0, 't...</td>\n",
              "      <td>1883934775</td>\n",
              "      <td>-282210548</td>\n",
              "      <td>[{'text': 'Most', 'start': 0, 'end': 4, 'id': ...</td>\n",
              "      <td>spans_manual</td>\n",
              "      <td>accept</td>\n",
              "      <td>1665142410</td>\n",
              "    </tr>\n",
              "    <tr>\n",
              "      <th>1</th>\n",
              "      <td>They considered this sufficient evidence to ju...</td>\n",
              "      <td>[]</td>\n",
              "      <td>-790869961</td>\n",
              "      <td>-1917123859</td>\n",
              "      <td>[{'text': 'They', 'start': 0, 'end': 4, 'id': ...</td>\n",
              "      <td>spans_manual</td>\n",
              "      <td>accept</td>\n",
              "      <td>1665142411</td>\n",
              "    </tr>\n",
              "    <tr>\n",
              "      <th>2</th>\n",
              "      <td>The latter specimen was identified tentatively...</td>\n",
              "      <td>[{'start': 0, 'end': 138, 'token_start': 0, 't...</td>\n",
              "      <td>1164894021</td>\n",
              "      <td>-1535474047</td>\n",
              "      <td>[{'text': 'The', 'start': 0, 'end': 3, 'id': 0...</td>\n",
              "      <td>spans_manual</td>\n",
              "      <td>accept</td>\n",
              "      <td>1665142412</td>\n",
              "    </tr>\n",
              "    <tr>\n",
              "      <th>3</th>\n",
              "      <td>Other phosphatic microfossils were found in sa...</td>\n",
              "      <td>[{'start': 0, 'end': 124, 'label': 'ACTIVITY',...</td>\n",
              "      <td>43492893</td>\n",
              "      <td>1447089060</td>\n",
              "      <td>[{'text': 'Other', 'start': 0, 'end': 5, 'id':...</td>\n",
              "      <td>spans_manual</td>\n",
              "      <td>accept</td>\n",
              "      <td>1665142413</td>\n",
              "    </tr>\n",
              "    <tr>\n",
              "      <th>4</th>\n",
              "      <td>Ordovician co nodont elements were found in Sa...</td>\n",
              "      <td>[]</td>\n",
              "      <td>1303462793</td>\n",
              "      <td>850938134</td>\n",
              "      <td>[{'text': 'Ordovician', 'start': 0, 'end': 10,...</td>\n",
              "      <td>spans_manual</td>\n",
              "      <td>accept</td>\n",
              "      <td>1665142414</td>\n",
              "    </tr>\n",
              "  </tbody>\n",
              "</table>\n",
              "</div>\n",
              "      <button class=\"colab-df-convert\" onclick=\"convertToInteractive('df-ebc54ca2-fcb6-4e2c-a1f8-be6b3f2ebbec')\"\n",
              "              title=\"Convert this dataframe to an interactive table.\"\n",
              "              style=\"display:none;\">\n",
              "        \n",
              "  <svg xmlns=\"http://www.w3.org/2000/svg\" height=\"24px\"viewBox=\"0 0 24 24\"\n",
              "       width=\"24px\">\n",
              "    <path d=\"M0 0h24v24H0V0z\" fill=\"none\"/>\n",
              "    <path d=\"M18.56 5.44l.94 2.06.94-2.06 2.06-.94-2.06-.94-.94-2.06-.94 2.06-2.06.94zm-11 1L8.5 8.5l.94-2.06 2.06-.94-2.06-.94L8.5 2.5l-.94 2.06-2.06.94zm10 10l.94 2.06.94-2.06 2.06-.94-2.06-.94-.94-2.06-.94 2.06-2.06.94z\"/><path d=\"M17.41 7.96l-1.37-1.37c-.4-.4-.92-.59-1.43-.59-.52 0-1.04.2-1.43.59L10.3 9.45l-7.72 7.72c-.78.78-.78 2.05 0 2.83L4 21.41c.39.39.9.59 1.41.59.51 0 1.02-.2 1.41-.59l7.78-7.78 2.81-2.81c.8-.78.8-2.07 0-2.86zM5.41 20L4 18.59l7.72-7.72 1.47 1.35L5.41 20z\"/>\n",
              "  </svg>\n",
              "      </button>\n",
              "      \n",
              "  <style>\n",
              "    .colab-df-container {\n",
              "      display:flex;\n",
              "      flex-wrap:wrap;\n",
              "      gap: 12px;\n",
              "    }\n",
              "\n",
              "    .colab-df-convert {\n",
              "      background-color: #E8F0FE;\n",
              "      border: none;\n",
              "      border-radius: 50%;\n",
              "      cursor: pointer;\n",
              "      display: none;\n",
              "      fill: #1967D2;\n",
              "      height: 32px;\n",
              "      padding: 0 0 0 0;\n",
              "      width: 32px;\n",
              "    }\n",
              "\n",
              "    .colab-df-convert:hover {\n",
              "      background-color: #E2EBFA;\n",
              "      box-shadow: 0px 1px 2px rgba(60, 64, 67, 0.3), 0px 1px 3px 1px rgba(60, 64, 67, 0.15);\n",
              "      fill: #174EA6;\n",
              "    }\n",
              "\n",
              "    [theme=dark] .colab-df-convert {\n",
              "      background-color: #3B4455;\n",
              "      fill: #D2E3FC;\n",
              "    }\n",
              "\n",
              "    [theme=dark] .colab-df-convert:hover {\n",
              "      background-color: #434B5C;\n",
              "      box-shadow: 0px 1px 3px 1px rgba(0, 0, 0, 0.15);\n",
              "      filter: drop-shadow(0px 1px 2px rgba(0, 0, 0, 0.3));\n",
              "      fill: #FFFFFF;\n",
              "    }\n",
              "  </style>\n",
              "\n",
              "      <script>\n",
              "        const buttonEl =\n",
              "          document.querySelector('#df-ebc54ca2-fcb6-4e2c-a1f8-be6b3f2ebbec button.colab-df-convert');\n",
              "        buttonEl.style.display =\n",
              "          google.colab.kernel.accessAllowed ? 'block' : 'none';\n",
              "\n",
              "        async function convertToInteractive(key) {\n",
              "          const element = document.querySelector('#df-ebc54ca2-fcb6-4e2c-a1f8-be6b3f2ebbec');\n",
              "          const dataTable =\n",
              "            await google.colab.kernel.invokeFunction('convertToInteractive',\n",
              "                                                     [key], {});\n",
              "          if (!dataTable) return;\n",
              "\n",
              "          const docLinkHtml = 'Like what you see? Visit the ' +\n",
              "            '<a target=\"_blank\" href=https://colab.research.google.com/notebooks/data_table.ipynb>data table notebook</a>'\n",
              "            + ' to learn more about interactive tables.';\n",
              "          element.innerHTML = '';\n",
              "          dataTable['output_type'] = 'display_data';\n",
              "          await google.colab.output.renderOutput(dataTable, element);\n",
              "          const docLink = document.createElement('div');\n",
              "          docLink.innerHTML = docLinkHtml;\n",
              "          element.appendChild(docLink);\n",
              "        }\n",
              "      </script>\n",
              "    </div>\n",
              "  </div>\n",
              "  "
            ]
          },
          "metadata": {},
          "execution_count": 5
        }
      ],
      "source": [
        "df1.head(5)"
      ]
    },
    {
      "cell_type": "code",
      "execution_count": null,
      "metadata": {
        "colab": {
          "base_uri": "https://localhost:8080/",
          "height": 206
        },
        "id": "JSaB1QJzLrrx",
        "outputId": "8b982c69-4d8c-41cc-80cb-c56b99b86e23"
      },
      "outputs": [
        {
          "output_type": "execute_result",
          "data": {
            "text/plain": [
              "                                                text  \\\n",
              "0  A new species of the copepod genus Australoeuc...   \n",
              "1  The rate of mitochondrial 12S rRNA gene evolut...   \n",
              "2  Bathymétrie map of the rift valley along the s...   \n",
              "3  The relative abundance of the four most domina...   \n",
              "4  Relative abundance values are normalized for v...   \n",
              "\n",
              "                                                meta  \n",
              "0  {'id': 'http://www.jstor.org/stable/41720796',...  \n",
              "1  {'id': 'http://www.jstor.org/stable/41720796',...  \n",
              "2  {'id': 'http://www.jstor.org/stable/41763431',...  \n",
              "3  {'id': 'http://www.jstor.org/stable/41763431',...  \n",
              "4  {'id': 'http://www.jstor.org/stable/41763431',...  "
            ],
            "text/html": [
              "\n",
              "  <div id=\"df-2d9dbeb7-67f1-4af4-81e7-d05b5b30b5db\">\n",
              "    <div class=\"colab-df-container\">\n",
              "      <div>\n",
              "<style scoped>\n",
              "    .dataframe tbody tr th:only-of-type {\n",
              "        vertical-align: middle;\n",
              "    }\n",
              "\n",
              "    .dataframe tbody tr th {\n",
              "        vertical-align: top;\n",
              "    }\n",
              "\n",
              "    .dataframe thead th {\n",
              "        text-align: right;\n",
              "    }\n",
              "</style>\n",
              "<table border=\"1\" class=\"dataframe\">\n",
              "  <thead>\n",
              "    <tr style=\"text-align: right;\">\n",
              "      <th></th>\n",
              "      <th>text</th>\n",
              "      <th>meta</th>\n",
              "    </tr>\n",
              "  </thead>\n",
              "  <tbody>\n",
              "    <tr>\n",
              "      <th>0</th>\n",
              "      <td>A new species of the copepod genus Australoeuc...</td>\n",
              "      <td>{'id': 'http://www.jstor.org/stable/41720796',...</td>\n",
              "    </tr>\n",
              "    <tr>\n",
              "      <th>1</th>\n",
              "      <td>The rate of mitochondrial 12S rRNA gene evolut...</td>\n",
              "      <td>{'id': 'http://www.jstor.org/stable/41720796',...</td>\n",
              "    </tr>\n",
              "    <tr>\n",
              "      <th>2</th>\n",
              "      <td>Bathymétrie map of the rift valley along the s...</td>\n",
              "      <td>{'id': 'http://www.jstor.org/stable/41763431',...</td>\n",
              "    </tr>\n",
              "    <tr>\n",
              "      <th>3</th>\n",
              "      <td>The relative abundance of the four most domina...</td>\n",
              "      <td>{'id': 'http://www.jstor.org/stable/41763431',...</td>\n",
              "    </tr>\n",
              "    <tr>\n",
              "      <th>4</th>\n",
              "      <td>Relative abundance values are normalized for v...</td>\n",
              "      <td>{'id': 'http://www.jstor.org/stable/41763431',...</td>\n",
              "    </tr>\n",
              "  </tbody>\n",
              "</table>\n",
              "</div>\n",
              "      <button class=\"colab-df-convert\" onclick=\"convertToInteractive('df-2d9dbeb7-67f1-4af4-81e7-d05b5b30b5db')\"\n",
              "              title=\"Convert this dataframe to an interactive table.\"\n",
              "              style=\"display:none;\">\n",
              "        \n",
              "  <svg xmlns=\"http://www.w3.org/2000/svg\" height=\"24px\"viewBox=\"0 0 24 24\"\n",
              "       width=\"24px\">\n",
              "    <path d=\"M0 0h24v24H0V0z\" fill=\"none\"/>\n",
              "    <path d=\"M18.56 5.44l.94 2.06.94-2.06 2.06-.94-2.06-.94-.94-2.06-.94 2.06-2.06.94zm-11 1L8.5 8.5l.94-2.06 2.06-.94-2.06-.94L8.5 2.5l-.94 2.06-2.06.94zm10 10l.94 2.06.94-2.06 2.06-.94-2.06-.94-.94-2.06-.94 2.06-2.06.94z\"/><path d=\"M17.41 7.96l-1.37-1.37c-.4-.4-.92-.59-1.43-.59-.52 0-1.04.2-1.43.59L10.3 9.45l-7.72 7.72c-.78.78-.78 2.05 0 2.83L4 21.41c.39.39.9.59 1.41.59.51 0 1.02-.2 1.41-.59l7.78-7.78 2.81-2.81c.8-.78.8-2.07 0-2.86zM5.41 20L4 18.59l7.72-7.72 1.47 1.35L5.41 20z\"/>\n",
              "  </svg>\n",
              "      </button>\n",
              "      \n",
              "  <style>\n",
              "    .colab-df-container {\n",
              "      display:flex;\n",
              "      flex-wrap:wrap;\n",
              "      gap: 12px;\n",
              "    }\n",
              "\n",
              "    .colab-df-convert {\n",
              "      background-color: #E8F0FE;\n",
              "      border: none;\n",
              "      border-radius: 50%;\n",
              "      cursor: pointer;\n",
              "      display: none;\n",
              "      fill: #1967D2;\n",
              "      height: 32px;\n",
              "      padding: 0 0 0 0;\n",
              "      width: 32px;\n",
              "    }\n",
              "\n",
              "    .colab-df-convert:hover {\n",
              "      background-color: #E2EBFA;\n",
              "      box-shadow: 0px 1px 2px rgba(60, 64, 67, 0.3), 0px 1px 3px 1px rgba(60, 64, 67, 0.15);\n",
              "      fill: #174EA6;\n",
              "    }\n",
              "\n",
              "    [theme=dark] .colab-df-convert {\n",
              "      background-color: #3B4455;\n",
              "      fill: #D2E3FC;\n",
              "    }\n",
              "\n",
              "    [theme=dark] .colab-df-convert:hover {\n",
              "      background-color: #434B5C;\n",
              "      box-shadow: 0px 1px 3px 1px rgba(0, 0, 0, 0.15);\n",
              "      filter: drop-shadow(0px 1px 2px rgba(0, 0, 0, 0.3));\n",
              "      fill: #FFFFFF;\n",
              "    }\n",
              "  </style>\n",
              "\n",
              "      <script>\n",
              "        const buttonEl =\n",
              "          document.querySelector('#df-2d9dbeb7-67f1-4af4-81e7-d05b5b30b5db button.colab-df-convert');\n",
              "        buttonEl.style.display =\n",
              "          google.colab.kernel.accessAllowed ? 'block' : 'none';\n",
              "\n",
              "        async function convertToInteractive(key) {\n",
              "          const element = document.querySelector('#df-2d9dbeb7-67f1-4af4-81e7-d05b5b30b5db');\n",
              "          const dataTable =\n",
              "            await google.colab.kernel.invokeFunction('convertToInteractive',\n",
              "                                                     [key], {});\n",
              "          if (!dataTable) return;\n",
              "\n",
              "          const docLinkHtml = 'Like what you see? Visit the ' +\n",
              "            '<a target=\"_blank\" href=https://colab.research.google.com/notebooks/data_table.ipynb>data table notebook</a>'\n",
              "            + ' to learn more about interactive tables.';\n",
              "          element.innerHTML = '';\n",
              "          dataTable['output_type'] = 'display_data';\n",
              "          await google.colab.output.renderOutput(dataTable, element);\n",
              "          const docLink = document.createElement('div');\n",
              "          docLink.innerHTML = docLinkHtml;\n",
              "          element.appendChild(docLink);\n",
              "        }\n",
              "      </script>\n",
              "    </div>\n",
              "  </div>\n",
              "  "
            ]
          },
          "metadata": {},
          "execution_count": 6
        }
      ],
      "source": [
        "df2.head(5)"
      ]
    },
    {
      "cell_type": "code",
      "execution_count": null,
      "metadata": {
        "id": "LWA7yBIeOztP"
      },
      "outputs": [],
      "source": [
        "inner_merged_total = pd.merge(df1, df2, on=[\"text\"])"
      ]
    },
    {
      "cell_type": "code",
      "execution_count": null,
      "metadata": {
        "colab": {
          "base_uri": "https://localhost:8080/",
          "height": 676
        },
        "id": "fMsG8rx9O72k",
        "outputId": "fd47a456-2ca9-4886-ed12-f84277d7f089"
      },
      "outputs": [
        {
          "output_type": "execute_result",
          "data": {
            "text/plain": [
              "                                                  text  \\\n",
              "0    Most of the characteristic species of the Ross...   \n",
              "1    They considered this sufficient evidence to ju...   \n",
              "2    The latter specimen was identified tentatively...   \n",
              "3    Other phosphatic microfossils were found in sa...   \n",
              "4    Ordovician co nodont elements were found in Sa...   \n",
              "..                                                 ...   \n",
              "829  In fact, all Carnian species that ranged throu...   \n",
              "830  Late Triassic bryozoans were also re ported bu...   \n",
              "831  Conversely, encrusting taxa were generally res...   \n",
              "832  Cyclostomes, the only post Triassic survivors,...   \n",
              "833  A detailed comparative taxonomic study of all ...   \n",
              "\n",
              "                                                 spans  _input_hash  \\\n",
              "0    [{'start': 0, 'end': 195, 'token_start': 0, 't...   1883934775   \n",
              "1                                                   []   -790869961   \n",
              "2    [{'start': 0, 'end': 138, 'token_start': 0, 't...   1164894021   \n",
              "3    [{'start': 0, 'end': 124, 'label': 'ACTIVITY',...     43492893   \n",
              "4                                                   []   1303462793   \n",
              "..                                                 ...          ...   \n",
              "829                                                 []   -488000781   \n",
              "830                                                 []   1372559913   \n",
              "831                                                 []   1123558288   \n",
              "832                                                 []   1885542863   \n",
              "833  [{'start': 0, 'end': 232, 'token_start': 0, 't...   -357060839   \n",
              "\n",
              "     _task_hash                                             tokens  \\\n",
              "0    -282210548  [{'text': 'Most', 'start': 0, 'end': 4, 'id': ...   \n",
              "1   -1917123859  [{'text': 'They', 'start': 0, 'end': 4, 'id': ...   \n",
              "2   -1535474047  [{'text': 'The', 'start': 0, 'end': 3, 'id': 0...   \n",
              "3    1447089060  [{'text': 'Other', 'start': 0, 'end': 5, 'id':...   \n",
              "4     850938134  [{'text': 'Ordovician', 'start': 0, 'end': 10,...   \n",
              "..          ...                                                ...   \n",
              "829 -2130479536  [{'text': 'In', 'start': 0, 'end': 2, 'id': 0,...   \n",
              "830  -741141316  [{'text': 'Late', 'start': 0, 'end': 4, 'id': ...   \n",
              "831 -1760454971  [{'text': 'Conversely', 'start': 0, 'end': 10,...   \n",
              "832 -1671855593  [{'text': 'Cyclostomes', 'start': 0, 'end': 11...   \n",
              "833  1758780534  [{'text': 'A', 'start': 0, 'end': 1, 'id': 0, ...   \n",
              "\n",
              "         _view_id  answer  _timestamp  \\\n",
              "0    spans_manual  accept  1665142410   \n",
              "1    spans_manual  accept  1665142411   \n",
              "2    spans_manual  accept  1665142412   \n",
              "3    spans_manual  accept  1665142413   \n",
              "4    spans_manual  accept  1665142414   \n",
              "..            ...     ...         ...   \n",
              "829  spans_manual  accept  1665141722   \n",
              "830  spans_manual  accept  1665141729   \n",
              "831  spans_manual  accept  1665141752   \n",
              "832  spans_manual  accept  1665141755   \n",
              "833  spans_manual  ignore  1665141790   \n",
              "\n",
              "                                                  meta  \n",
              "0    {'id': 'http://www.jstor.org/stable/20172991',...  \n",
              "1    {'id': 'http://www.jstor.org/stable/20172991',...  \n",
              "2    {'id': 'http://www.jstor.org/stable/20172991',...  \n",
              "3    {'id': 'http://www.jstor.org/stable/20172991',...  \n",
              "4    {'id': 'http://www.jstor.org/stable/20172991',...  \n",
              "..                                                 ...  \n",
              "829  {'id': 'http://www.jstor.org/stable/20144200',...  \n",
              "830  {'id': 'http://www.jstor.org/stable/20144200',...  \n",
              "831  {'id': 'http://www.jstor.org/stable/20144200',...  \n",
              "832  {'id': 'http://www.jstor.org/stable/20144200',...  \n",
              "833  {'id': 'http://www.jstor.org/stable/20144200',...  \n",
              "\n",
              "[834 rows x 9 columns]"
            ],
            "text/html": [
              "\n",
              "  <div id=\"df-65191fec-cbe1-43e4-972a-5b6ce7e51166\">\n",
              "    <div class=\"colab-df-container\">\n",
              "      <div>\n",
              "<style scoped>\n",
              "    .dataframe tbody tr th:only-of-type {\n",
              "        vertical-align: middle;\n",
              "    }\n",
              "\n",
              "    .dataframe tbody tr th {\n",
              "        vertical-align: top;\n",
              "    }\n",
              "\n",
              "    .dataframe thead th {\n",
              "        text-align: right;\n",
              "    }\n",
              "</style>\n",
              "<table border=\"1\" class=\"dataframe\">\n",
              "  <thead>\n",
              "    <tr style=\"text-align: right;\">\n",
              "      <th></th>\n",
              "      <th>text</th>\n",
              "      <th>spans</th>\n",
              "      <th>_input_hash</th>\n",
              "      <th>_task_hash</th>\n",
              "      <th>tokens</th>\n",
              "      <th>_view_id</th>\n",
              "      <th>answer</th>\n",
              "      <th>_timestamp</th>\n",
              "      <th>meta</th>\n",
              "    </tr>\n",
              "  </thead>\n",
              "  <tbody>\n",
              "    <tr>\n",
              "      <th>0</th>\n",
              "      <td>Most of the characteristic species of the Ross...</td>\n",
              "      <td>[{'start': 0, 'end': 195, 'token_start': 0, 't...</td>\n",
              "      <td>1883934775</td>\n",
              "      <td>-282210548</td>\n",
              "      <td>[{'text': 'Most', 'start': 0, 'end': 4, 'id': ...</td>\n",
              "      <td>spans_manual</td>\n",
              "      <td>accept</td>\n",
              "      <td>1665142410</td>\n",
              "      <td>{'id': 'http://www.jstor.org/stable/20172991',...</td>\n",
              "    </tr>\n",
              "    <tr>\n",
              "      <th>1</th>\n",
              "      <td>They considered this sufficient evidence to ju...</td>\n",
              "      <td>[]</td>\n",
              "      <td>-790869961</td>\n",
              "      <td>-1917123859</td>\n",
              "      <td>[{'text': 'They', 'start': 0, 'end': 4, 'id': ...</td>\n",
              "      <td>spans_manual</td>\n",
              "      <td>accept</td>\n",
              "      <td>1665142411</td>\n",
              "      <td>{'id': 'http://www.jstor.org/stable/20172991',...</td>\n",
              "    </tr>\n",
              "    <tr>\n",
              "      <th>2</th>\n",
              "      <td>The latter specimen was identified tentatively...</td>\n",
              "      <td>[{'start': 0, 'end': 138, 'token_start': 0, 't...</td>\n",
              "      <td>1164894021</td>\n",
              "      <td>-1535474047</td>\n",
              "      <td>[{'text': 'The', 'start': 0, 'end': 3, 'id': 0...</td>\n",
              "      <td>spans_manual</td>\n",
              "      <td>accept</td>\n",
              "      <td>1665142412</td>\n",
              "      <td>{'id': 'http://www.jstor.org/stable/20172991',...</td>\n",
              "    </tr>\n",
              "    <tr>\n",
              "      <th>3</th>\n",
              "      <td>Other phosphatic microfossils were found in sa...</td>\n",
              "      <td>[{'start': 0, 'end': 124, 'label': 'ACTIVITY',...</td>\n",
              "      <td>43492893</td>\n",
              "      <td>1447089060</td>\n",
              "      <td>[{'text': 'Other', 'start': 0, 'end': 5, 'id':...</td>\n",
              "      <td>spans_manual</td>\n",
              "      <td>accept</td>\n",
              "      <td>1665142413</td>\n",
              "      <td>{'id': 'http://www.jstor.org/stable/20172991',...</td>\n",
              "    </tr>\n",
              "    <tr>\n",
              "      <th>4</th>\n",
              "      <td>Ordovician co nodont elements were found in Sa...</td>\n",
              "      <td>[]</td>\n",
              "      <td>1303462793</td>\n",
              "      <td>850938134</td>\n",
              "      <td>[{'text': 'Ordovician', 'start': 0, 'end': 10,...</td>\n",
              "      <td>spans_manual</td>\n",
              "      <td>accept</td>\n",
              "      <td>1665142414</td>\n",
              "      <td>{'id': 'http://www.jstor.org/stable/20172991',...</td>\n",
              "    </tr>\n",
              "    <tr>\n",
              "      <th>...</th>\n",
              "      <td>...</td>\n",
              "      <td>...</td>\n",
              "      <td>...</td>\n",
              "      <td>...</td>\n",
              "      <td>...</td>\n",
              "      <td>...</td>\n",
              "      <td>...</td>\n",
              "      <td>...</td>\n",
              "      <td>...</td>\n",
              "    </tr>\n",
              "    <tr>\n",
              "      <th>829</th>\n",
              "      <td>In fact, all Carnian species that ranged throu...</td>\n",
              "      <td>[]</td>\n",
              "      <td>-488000781</td>\n",
              "      <td>-2130479536</td>\n",
              "      <td>[{'text': 'In', 'start': 0, 'end': 2, 'id': 0,...</td>\n",
              "      <td>spans_manual</td>\n",
              "      <td>accept</td>\n",
              "      <td>1665141722</td>\n",
              "      <td>{'id': 'http://www.jstor.org/stable/20144200',...</td>\n",
              "    </tr>\n",
              "    <tr>\n",
              "      <th>830</th>\n",
              "      <td>Late Triassic bryozoans were also re ported bu...</td>\n",
              "      <td>[]</td>\n",
              "      <td>1372559913</td>\n",
              "      <td>-741141316</td>\n",
              "      <td>[{'text': 'Late', 'start': 0, 'end': 4, 'id': ...</td>\n",
              "      <td>spans_manual</td>\n",
              "      <td>accept</td>\n",
              "      <td>1665141729</td>\n",
              "      <td>{'id': 'http://www.jstor.org/stable/20144200',...</td>\n",
              "    </tr>\n",
              "    <tr>\n",
              "      <th>831</th>\n",
              "      <td>Conversely, encrusting taxa were generally res...</td>\n",
              "      <td>[]</td>\n",
              "      <td>1123558288</td>\n",
              "      <td>-1760454971</td>\n",
              "      <td>[{'text': 'Conversely', 'start': 0, 'end': 10,...</td>\n",
              "      <td>spans_manual</td>\n",
              "      <td>accept</td>\n",
              "      <td>1665141752</td>\n",
              "      <td>{'id': 'http://www.jstor.org/stable/20144200',...</td>\n",
              "    </tr>\n",
              "    <tr>\n",
              "      <th>832</th>\n",
              "      <td>Cyclostomes, the only post Triassic survivors,...</td>\n",
              "      <td>[]</td>\n",
              "      <td>1885542863</td>\n",
              "      <td>-1671855593</td>\n",
              "      <td>[{'text': 'Cyclostomes', 'start': 0, 'end': 11...</td>\n",
              "      <td>spans_manual</td>\n",
              "      <td>accept</td>\n",
              "      <td>1665141755</td>\n",
              "      <td>{'id': 'http://www.jstor.org/stable/20144200',...</td>\n",
              "    </tr>\n",
              "    <tr>\n",
              "      <th>833</th>\n",
              "      <td>A detailed comparative taxonomic study of all ...</td>\n",
              "      <td>[{'start': 0, 'end': 232, 'token_start': 0, 't...</td>\n",
              "      <td>-357060839</td>\n",
              "      <td>1758780534</td>\n",
              "      <td>[{'text': 'A', 'start': 0, 'end': 1, 'id': 0, ...</td>\n",
              "      <td>spans_manual</td>\n",
              "      <td>ignore</td>\n",
              "      <td>1665141790</td>\n",
              "      <td>{'id': 'http://www.jstor.org/stable/20144200',...</td>\n",
              "    </tr>\n",
              "  </tbody>\n",
              "</table>\n",
              "<p>834 rows × 9 columns</p>\n",
              "</div>\n",
              "      <button class=\"colab-df-convert\" onclick=\"convertToInteractive('df-65191fec-cbe1-43e4-972a-5b6ce7e51166')\"\n",
              "              title=\"Convert this dataframe to an interactive table.\"\n",
              "              style=\"display:none;\">\n",
              "        \n",
              "  <svg xmlns=\"http://www.w3.org/2000/svg\" height=\"24px\"viewBox=\"0 0 24 24\"\n",
              "       width=\"24px\">\n",
              "    <path d=\"M0 0h24v24H0V0z\" fill=\"none\"/>\n",
              "    <path d=\"M18.56 5.44l.94 2.06.94-2.06 2.06-.94-2.06-.94-.94-2.06-.94 2.06-2.06.94zm-11 1L8.5 8.5l.94-2.06 2.06-.94-2.06-.94L8.5 2.5l-.94 2.06-2.06.94zm10 10l.94 2.06.94-2.06 2.06-.94-2.06-.94-.94-2.06-.94 2.06-2.06.94z\"/><path d=\"M17.41 7.96l-1.37-1.37c-.4-.4-.92-.59-1.43-.59-.52 0-1.04.2-1.43.59L10.3 9.45l-7.72 7.72c-.78.78-.78 2.05 0 2.83L4 21.41c.39.39.9.59 1.41.59.51 0 1.02-.2 1.41-.59l7.78-7.78 2.81-2.81c.8-.78.8-2.07 0-2.86zM5.41 20L4 18.59l7.72-7.72 1.47 1.35L5.41 20z\"/>\n",
              "  </svg>\n",
              "      </button>\n",
              "      \n",
              "  <style>\n",
              "    .colab-df-container {\n",
              "      display:flex;\n",
              "      flex-wrap:wrap;\n",
              "      gap: 12px;\n",
              "    }\n",
              "\n",
              "    .colab-df-convert {\n",
              "      background-color: #E8F0FE;\n",
              "      border: none;\n",
              "      border-radius: 50%;\n",
              "      cursor: pointer;\n",
              "      display: none;\n",
              "      fill: #1967D2;\n",
              "      height: 32px;\n",
              "      padding: 0 0 0 0;\n",
              "      width: 32px;\n",
              "    }\n",
              "\n",
              "    .colab-df-convert:hover {\n",
              "      background-color: #E2EBFA;\n",
              "      box-shadow: 0px 1px 2px rgba(60, 64, 67, 0.3), 0px 1px 3px 1px rgba(60, 64, 67, 0.15);\n",
              "      fill: #174EA6;\n",
              "    }\n",
              "\n",
              "    [theme=dark] .colab-df-convert {\n",
              "      background-color: #3B4455;\n",
              "      fill: #D2E3FC;\n",
              "    }\n",
              "\n",
              "    [theme=dark] .colab-df-convert:hover {\n",
              "      background-color: #434B5C;\n",
              "      box-shadow: 0px 1px 3px 1px rgba(0, 0, 0, 0.15);\n",
              "      filter: drop-shadow(0px 1px 2px rgba(0, 0, 0, 0.3));\n",
              "      fill: #FFFFFF;\n",
              "    }\n",
              "  </style>\n",
              "\n",
              "      <script>\n",
              "        const buttonEl =\n",
              "          document.querySelector('#df-65191fec-cbe1-43e4-972a-5b6ce7e51166 button.colab-df-convert');\n",
              "        buttonEl.style.display =\n",
              "          google.colab.kernel.accessAllowed ? 'block' : 'none';\n",
              "\n",
              "        async function convertToInteractive(key) {\n",
              "          const element = document.querySelector('#df-65191fec-cbe1-43e4-972a-5b6ce7e51166');\n",
              "          const dataTable =\n",
              "            await google.colab.kernel.invokeFunction('convertToInteractive',\n",
              "                                                     [key], {});\n",
              "          if (!dataTable) return;\n",
              "\n",
              "          const docLinkHtml = 'Like what you see? Visit the ' +\n",
              "            '<a target=\"_blank\" href=https://colab.research.google.com/notebooks/data_table.ipynb>data table notebook</a>'\n",
              "            + ' to learn more about interactive tables.';\n",
              "          element.innerHTML = '';\n",
              "          dataTable['output_type'] = 'display_data';\n",
              "          await google.colab.output.renderOutput(dataTable, element);\n",
              "          const docLink = document.createElement('div');\n",
              "          docLink.innerHTML = docLinkHtml;\n",
              "          element.appendChild(docLink);\n",
              "        }\n",
              "      </script>\n",
              "    </div>\n",
              "  </div>\n",
              "  "
            ]
          },
          "metadata": {},
          "execution_count": 11
        }
      ],
      "source": [
        "inner_merged_total"
      ]
    },
    {
      "cell_type": "code",
      "execution_count": null,
      "metadata": {
        "id": "l6nWMyz5P31i"
      },
      "outputs": [],
      "source": [
        "new_data = inner_merged_total.drop(['_input_hash', '_task_hash', '_view_id', 'tokens', '_timestamp'], axis=1)"
      ]
    },
    {
      "cell_type": "code",
      "execution_count": null,
      "metadata": {
        "id": "LP54oJXaQXw4"
      },
      "outputs": [],
      "source": [
        "new_new_data =new_data.rename(columns={'spans_x': 'spans'})"
      ]
    },
    {
      "cell_type": "code",
      "execution_count": null,
      "metadata": {
        "colab": {
          "base_uri": "https://localhost:8080/"
        },
        "id": "_UGgtk0GQuto",
        "outputId": "2be6f184-66f6-4d38-b638-138869e176b0"
      },
      "outputs": [
        {
          "output_type": "execute_result",
          "data": {
            "text/plain": [
              "                                                   text  \\\n",
              "0     \"Blind testing\" analysis of coprolites by an i...   \n",
              "1     \"Luminescence dating\" is a term that embraces ...   \n",
              "2     \"Space-for-time\" substitution is widely used i...   \n",
              "3     (2) Species distribution models (SDMs): the IA...   \n",
              "4     (5) Extended R-Value analysis was carried out ...   \n",
              "...                                                 ...   \n",
              "6449  • Methods Wood density was determined from tre...   \n",
              "6450  • Sporocarps, needles, and litter from Woods C...   \n",
              "6451  • We examined the EM community associated with...   \n",
              "6452  • We grew three subantarctic and three alpine ...   \n",
              "6453  •Methods ICP-OES was used to measure Mn and ot...   \n",
              "\n",
              "                                                  spans  \\\n",
              "0     [{'start': 0, 'end': 24, 'label': 'METHOD'}, {...   \n",
              "1     [{'start': 1, 'end': 20, 'label': 'METHOD'}, {...   \n",
              "2         [{'start': 48, 'end': 69, 'label': 'METHOD'}]   \n",
              "3     [{'start': 53, 'end': 77, 'label': 'METHOD'}, ...   \n",
              "4     [{'start': 13, 'end': 29, 'label': 'METHOD'}, ...   \n",
              "...                                                 ...   \n",
              "6449      [{'start': 60, 'end': 78, 'label': 'METHOD'}]   \n",
              "6450  [{'start': 128, 'end': 157, 'label': 'METHOD'}...   \n",
              "6451  [{'start': 136, 'end': 150, 'label': 'METHOD'}...   \n",
              "6452  [{'start': 173, 'end': 188, 'label': 'METHOD'}...   \n",
              "6453  [{'start': 9, 'end': 16, 'label': 'METHOD'}, {...   \n",
              "\n",
              "                                                   meta  answer  \n",
              "0     {'id': 'http://www.jstor.org/stable/41584543',...  accept  \n",
              "1     {'id': 'http://www.jstor.org/stable/42928652',...  accept  \n",
              "2     {'id': 'http://www.jstor.org/stable/42706621',...  ignore  \n",
              "3     {'id': 'http://www.jstor.org/stable/42568458',...  accept  \n",
              "4     {'id': 'http://www.jstor.org/stable/23419731',...  accept  \n",
              "...                                                 ...     ...  \n",
              "6449  {'id': 'http://www.jstor.org/stable/43576662',...  accept  \n",
              "6450  {'id': 'http://www.jstor.org/stable/1514136', ...  accept  \n",
              "6451  {'id': 'http://www.jstor.org/stable/4641009', ...  accept  \n",
              "6452  {'id': 'http://www.jstor.org/stable/4641047', ...  accept  \n",
              "6453  {'id': 'http://www.jstor.org/stable/43576175',...  accept  \n",
              "\n",
              "[6454 rows x 4 columns]"
            ],
            "text/html": [
              "\n",
              "  <div id=\"df-10a9fbc4-5e04-41b8-b819-6f7af8386810\">\n",
              "    <div class=\"colab-df-container\">\n",
              "      <div>\n",
              "<style scoped>\n",
              "    .dataframe tbody tr th:only-of-type {\n",
              "        vertical-align: middle;\n",
              "    }\n",
              "\n",
              "    .dataframe tbody tr th {\n",
              "        vertical-align: top;\n",
              "    }\n",
              "\n",
              "    .dataframe thead th {\n",
              "        text-align: right;\n",
              "    }\n",
              "</style>\n",
              "<table border=\"1\" class=\"dataframe\">\n",
              "  <thead>\n",
              "    <tr style=\"text-align: right;\">\n",
              "      <th></th>\n",
              "      <th>text</th>\n",
              "      <th>spans</th>\n",
              "      <th>meta</th>\n",
              "      <th>answer</th>\n",
              "    </tr>\n",
              "  </thead>\n",
              "  <tbody>\n",
              "    <tr>\n",
              "      <th>0</th>\n",
              "      <td>\"Blind testing\" analysis of coprolites by an i...</td>\n",
              "      <td>[{'start': 0, 'end': 24, 'label': 'METHOD'}, {...</td>\n",
              "      <td>{'id': 'http://www.jstor.org/stable/41584543',...</td>\n",
              "      <td>accept</td>\n",
              "    </tr>\n",
              "    <tr>\n",
              "      <th>1</th>\n",
              "      <td>\"Luminescence dating\" is a term that embraces ...</td>\n",
              "      <td>[{'start': 1, 'end': 20, 'label': 'METHOD'}, {...</td>\n",
              "      <td>{'id': 'http://www.jstor.org/stable/42928652',...</td>\n",
              "      <td>accept</td>\n",
              "    </tr>\n",
              "    <tr>\n",
              "      <th>2</th>\n",
              "      <td>\"Space-for-time\" substitution is widely used i...</td>\n",
              "      <td>[{'start': 48, 'end': 69, 'label': 'METHOD'}]</td>\n",
              "      <td>{'id': 'http://www.jstor.org/stable/42706621',...</td>\n",
              "      <td>ignore</td>\n",
              "    </tr>\n",
              "    <tr>\n",
              "      <th>3</th>\n",
              "      <td>(2) Species distribution models (SDMs): the IA...</td>\n",
              "      <td>[{'start': 53, 'end': 77, 'label': 'METHOD'}, ...</td>\n",
              "      <td>{'id': 'http://www.jstor.org/stable/42568458',...</td>\n",
              "      <td>accept</td>\n",
              "    </tr>\n",
              "    <tr>\n",
              "      <th>4</th>\n",
              "      <td>(5) Extended R-Value analysis was carried out ...</td>\n",
              "      <td>[{'start': 13, 'end': 29, 'label': 'METHOD'}, ...</td>\n",
              "      <td>{'id': 'http://www.jstor.org/stable/23419731',...</td>\n",
              "      <td>accept</td>\n",
              "    </tr>\n",
              "    <tr>\n",
              "      <th>...</th>\n",
              "      <td>...</td>\n",
              "      <td>...</td>\n",
              "      <td>...</td>\n",
              "      <td>...</td>\n",
              "    </tr>\n",
              "    <tr>\n",
              "      <th>6449</th>\n",
              "      <td>• Methods Wood density was determined from tre...</td>\n",
              "      <td>[{'start': 60, 'end': 78, 'label': 'METHOD'}]</td>\n",
              "      <td>{'id': 'http://www.jstor.org/stable/43576662',...</td>\n",
              "      <td>accept</td>\n",
              "    </tr>\n",
              "    <tr>\n",
              "      <th>6450</th>\n",
              "      <td>• Sporocarps, needles, and litter from Woods C...</td>\n",
              "      <td>[{'start': 128, 'end': 157, 'label': 'METHOD'}...</td>\n",
              "      <td>{'id': 'http://www.jstor.org/stable/1514136', ...</td>\n",
              "      <td>accept</td>\n",
              "    </tr>\n",
              "    <tr>\n",
              "      <th>6451</th>\n",
              "      <td>• We examined the EM community associated with...</td>\n",
              "      <td>[{'start': 136, 'end': 150, 'label': 'METHOD'}...</td>\n",
              "      <td>{'id': 'http://www.jstor.org/stable/4641009', ...</td>\n",
              "      <td>accept</td>\n",
              "    </tr>\n",
              "    <tr>\n",
              "      <th>6452</th>\n",
              "      <td>• We grew three subantarctic and three alpine ...</td>\n",
              "      <td>[{'start': 173, 'end': 188, 'label': 'METHOD'}...</td>\n",
              "      <td>{'id': 'http://www.jstor.org/stable/4641047', ...</td>\n",
              "      <td>accept</td>\n",
              "    </tr>\n",
              "    <tr>\n",
              "      <th>6453</th>\n",
              "      <td>•Methods ICP-OES was used to measure Mn and ot...</td>\n",
              "      <td>[{'start': 9, 'end': 16, 'label': 'METHOD'}, {...</td>\n",
              "      <td>{'id': 'http://www.jstor.org/stable/43576175',...</td>\n",
              "      <td>accept</td>\n",
              "    </tr>\n",
              "  </tbody>\n",
              "</table>\n",
              "<p>6454 rows × 4 columns</p>\n",
              "</div>\n",
              "      <button class=\"colab-df-convert\" onclick=\"convertToInteractive('df-10a9fbc4-5e04-41b8-b819-6f7af8386810')\"\n",
              "              title=\"Convert this dataframe to an interactive table.\"\n",
              "              style=\"display:none;\">\n",
              "        \n",
              "  <svg xmlns=\"http://www.w3.org/2000/svg\" height=\"24px\"viewBox=\"0 0 24 24\"\n",
              "       width=\"24px\">\n",
              "    <path d=\"M0 0h24v24H0V0z\" fill=\"none\"/>\n",
              "    <path d=\"M18.56 5.44l.94 2.06.94-2.06 2.06-.94-2.06-.94-.94-2.06-.94 2.06-2.06.94zm-11 1L8.5 8.5l.94-2.06 2.06-.94-2.06-.94L8.5 2.5l-.94 2.06-2.06.94zm10 10l.94 2.06.94-2.06 2.06-.94-2.06-.94-.94-2.06-.94 2.06-2.06.94z\"/><path d=\"M17.41 7.96l-1.37-1.37c-.4-.4-.92-.59-1.43-.59-.52 0-1.04.2-1.43.59L10.3 9.45l-7.72 7.72c-.78.78-.78 2.05 0 2.83L4 21.41c.39.39.9.59 1.41.59.51 0 1.02-.2 1.41-.59l7.78-7.78 2.81-2.81c.8-.78.8-2.07 0-2.86zM5.41 20L4 18.59l7.72-7.72 1.47 1.35L5.41 20z\"/>\n",
              "  </svg>\n",
              "      </button>\n",
              "      \n",
              "  <style>\n",
              "    .colab-df-container {\n",
              "      display:flex;\n",
              "      flex-wrap:wrap;\n",
              "      gap: 12px;\n",
              "    }\n",
              "\n",
              "    .colab-df-convert {\n",
              "      background-color: #E8F0FE;\n",
              "      border: none;\n",
              "      border-radius: 50%;\n",
              "      cursor: pointer;\n",
              "      display: none;\n",
              "      fill: #1967D2;\n",
              "      height: 32px;\n",
              "      padding: 0 0 0 0;\n",
              "      width: 32px;\n",
              "    }\n",
              "\n",
              "    .colab-df-convert:hover {\n",
              "      background-color: #E2EBFA;\n",
              "      box-shadow: 0px 1px 2px rgba(60, 64, 67, 0.3), 0px 1px 3px 1px rgba(60, 64, 67, 0.15);\n",
              "      fill: #174EA6;\n",
              "    }\n",
              "\n",
              "    [theme=dark] .colab-df-convert {\n",
              "      background-color: #3B4455;\n",
              "      fill: #D2E3FC;\n",
              "    }\n",
              "\n",
              "    [theme=dark] .colab-df-convert:hover {\n",
              "      background-color: #434B5C;\n",
              "      box-shadow: 0px 1px 3px 1px rgba(0, 0, 0, 0.15);\n",
              "      filter: drop-shadow(0px 1px 2px rgba(0, 0, 0, 0.3));\n",
              "      fill: #FFFFFF;\n",
              "    }\n",
              "  </style>\n",
              "\n",
              "      <script>\n",
              "        const buttonEl =\n",
              "          document.querySelector('#df-10a9fbc4-5e04-41b8-b819-6f7af8386810 button.colab-df-convert');\n",
              "        buttonEl.style.display =\n",
              "          google.colab.kernel.accessAllowed ? 'block' : 'none';\n",
              "\n",
              "        async function convertToInteractive(key) {\n",
              "          const element = document.querySelector('#df-10a9fbc4-5e04-41b8-b819-6f7af8386810');\n",
              "          const dataTable =\n",
              "            await google.colab.kernel.invokeFunction('convertToInteractive',\n",
              "                                                     [key], {});\n",
              "          if (!dataTable) return;\n",
              "\n",
              "          const docLinkHtml = 'Like what you see? Visit the ' +\n",
              "            '<a target=\"_blank\" href=https://colab.research.google.com/notebooks/data_table.ipynb>data table notebook</a>'\n",
              "            + ' to learn more about interactive tables.';\n",
              "          element.innerHTML = '';\n",
              "          dataTable['output_type'] = 'display_data';\n",
              "          await google.colab.output.renderOutput(dataTable, element);\n",
              "          const docLink = document.createElement('div');\n",
              "          docLink.innerHTML = docLinkHtml;\n",
              "          element.appendChild(docLink);\n",
              "        }\n",
              "      </script>\n",
              "    </div>\n",
              "  </div>\n",
              "  "
            ]
          },
          "metadata": {},
          "execution_count": 76
        }
      ],
      "source": [
        "new_new_data"
      ]
    },
    {
      "cell_type": "code",
      "execution_count": null,
      "metadata": {
        "id": "rJ2oI2aURN46"
      },
      "outputs": [],
      "source": [
        "new_data.to_json(\"data.json\", orient='records')"
      ]
    },
    {
      "cell_type": "code",
      "execution_count": null,
      "metadata": {
        "id": "2ND_dlnORVQP"
      },
      "outputs": [],
      "source": [
        "import json\n",
        "with open('/content/data.json', 'r') as f:\n",
        "    json_data = json.load(f)\n",
        "    \n",
        "with open('METHOD_ACTIVITY_GOAL_RESULT.jsonl', 'w') as outfile:\n",
        "    for entry in json_data:\n",
        "        json.dump(entry, outfile)\n",
        "        outfile.write('\\n')"
      ]
    },
    {
      "cell_type": "markdown",
      "source": [
        "# Data Analysis and Manipulation"
      ],
      "metadata": {
        "id": "cKTHViDdFry5"
      }
    },
    {
      "cell_type": "markdown",
      "metadata": {
        "id": "T7PVns6c5DU5"
      },
      "source": [
        "## Number of sentences in the dataset"
      ]
    },
    {
      "cell_type": "code",
      "execution_count": null,
      "metadata": {
        "colab": {
          "base_uri": "https://localhost:8080/"
        },
        "id": "qnZSoYtz6_Mm",
        "outputId": "4bd0b77d-dc9a-42db-a211-62727e122db3"
      },
      "outputs": [
        {
          "output_type": "stream",
          "name": "stdout",
          "text": [
            "Total number of sentences is 3622125\n"
          ]
        }
      ],
      "source": [
        "def count_sents(filename):\n",
        "  num = sum(1 for line in open(filename))\n",
        "  print(\"Total number of sentences is\",num)\n",
        "\n",
        "count_sents(\"/content/drive/MyDrive/full_cleaned.jsonl\")"
      ]
    },
    {
      "cell_type": "markdown",
      "metadata": {
        "id": "bZjQhsRsSxQr"
      },
      "source": [
        "## Number of papers in the dataset"
      ]
    },
    {
      "cell_type": "code",
      "execution_count": null,
      "metadata": {
        "colab": {
          "base_uri": "https://localhost:8080/"
        },
        "id": "Zo9wjsPaS1tn",
        "outputId": "a9b48a6a-ab3b-4bd9-fec8-b8fdf3f3965a"
      },
      "outputs": [
        {
          "output_type": "stream",
          "name": "stdout",
          "text": [
            "The sentences come from 21378 papers\n"
          ]
        }
      ],
      "source": [
        "import srsly\n",
        "\n",
        "def count_papers(filename):\n",
        "  data = srsly.read_jsonl(filename)\n",
        "  papers = []\n",
        "  for col in data:\n",
        "    tasks = col[\"meta\"][\"id\"]\n",
        "    if tasks not in papers:\n",
        "      papers.append(tasks)\n",
        "  print(\"The sentences come from\",len(papers), \"papers\")\n",
        "\n",
        "\n",
        "count_papers(\"/content/abstract-sents.jsonl\")  "
      ]
    },
    {
      "cell_type": "markdown",
      "metadata": {
        "id": "nuWPpwV47mjF"
      },
      "source": [
        "## Number of tokens in the dataset"
      ]
    },
    {
      "cell_type": "code",
      "execution_count": null,
      "metadata": {
        "colab": {
          "base_uri": "https://localhost:8080/"
        },
        "outputId": "815b4d1a-a764-4441-8536-6d98e5411bcc",
        "id": "itVhaUslonBD"
      },
      "outputs": [
        {
          "output_type": "stream",
          "name": "stdout",
          "text": [
            "Total number of tokens is 21253\n"
          ]
        }
      ],
      "source": [
        "import srsly\n",
        "from nltk.tokenize import WordPunctTokenizer\n",
        "\n",
        "def total_no_tokens(filename):\n",
        "  data = srsly.read_jsonl(filename)\n",
        "  tokens = []\n",
        "  for col in data:\n",
        "    tok = WordPunctTokenizer().tokenize(col['text'])\n",
        "    for w in tok:\n",
        "      tokens.append(w)\n",
        "  print(\"Total number of tokens is\",len(tokens))\n",
        "\n",
        "total_no_tokens(\"/content/ASSERTION.jsonl\")"
      ]
    },
    {
      "cell_type": "markdown",
      "metadata": {
        "id": "zLuZ6MimqdH1"
      },
      "source": [
        "## Number of sentences per entity"
      ]
    },
    {
      "cell_type": "code",
      "execution_count": null,
      "metadata": {
        "colab": {
          "base_uri": "https://localhost:8080/"
        },
        "id": "gd5DQ8REqhtx",
        "outputId": "ae512962-8b75-485d-99f3-df4ab36ea996"
      },
      "outputs": [
        {
          "output_type": "stream",
          "name": "stdout",
          "text": [
            "The number of sentences that contain ACTIVITY is 159\n",
            "The number of sentences that contain GOAL is 119\n"
          ]
        }
      ],
      "source": [
        "import pandas as pd\n",
        "\n",
        "def count_sents_per_label(filename, label):\n",
        "  data = pd.read_json(filename, lines=True)\n",
        "  sum_sents_label = []\n",
        "  for idx, row in data.iterrows():\n",
        "      for s in row.spans:\n",
        "          if s[\"label\"] == label:\n",
        "            if row.text not in sum_sents_label:\n",
        "              sum_sents_label.append(row.text)\n",
        "  print(\"The number of sentences that contain\", label,\"is\", len(sum_sents_label))\n",
        "\n",
        "count_sents_per_label(\"/content/annotations_meta_no_duplicates.jsonl\",\"ACTIVITY\")\n",
        "count_sents_per_label(\"/content/annotations_meta_no_duplicates.jsonl\",\"GOAL\")\n"
      ]
    },
    {
      "cell_type": "markdown",
      "source": [],
      "metadata": {
        "id": "Sh3m8szDFPKg"
      }
    },
    {
      "cell_type": "markdown",
      "metadata": {
        "id": "ukgxMPl3CGzg"
      },
      "source": [
        "## Number of label occurances in the dataset"
      ]
    },
    {
      "cell_type": "code",
      "execution_count": null,
      "metadata": {
        "colab": {
          "base_uri": "https://localhost:8080/"
        },
        "id": "X_eyxyXLCQHX",
        "outputId": "b67ffd6e-5d35-41b0-8ce2-b1d7e8bd41c5"
      },
      "outputs": [
        {
          "output_type": "stream",
          "name": "stdout",
          "text": [
            "This label ACTIVITY occurs 170 times\n",
            "This label GOAL occurs 127 times\n"
          ]
        }
      ],
      "source": [
        "import pandas as pd\n",
        "\n",
        "def count_label(filename, label):\n",
        "  data = pd.read_json(filename, lines=True)\n",
        "  sum_label = 0\n",
        "  for idx, row in data.iterrows():\n",
        "    for s in row.spans:\n",
        "      if s[\"label\"] == label:\n",
        "        sum_label += 1\n",
        "  print(\"This label\", label ,\"occurs\",sum_label, \"times\")\n",
        "\n",
        "count_label(\"/content/annotations_meta_no_duplicates.jsonl\", \"ACTIVITY\")\n",
        "count_label(\"/content/annotations_meta_no_duplicates.jsonl\",\"GOAL\")"
      ]
    },
    {
      "cell_type": "markdown",
      "metadata": {
        "id": "6lbr8Q_qhzdG"
      },
      "source": [
        "## Number of labeled tokens per entity"
      ]
    },
    {
      "cell_type": "code",
      "execution_count": null,
      "metadata": {
        "id": "TO9q9gmLh4O0"
      },
      "outputs": [],
      "source": [
        "def labeled_tokens_per_entity(path, label):\n",
        "  data = pd.read_json(path, lines=True)\n",
        "  spans = []\n",
        "\n",
        "  for idx, row in data.iterrows():\n",
        "    for span in row.spans:\n",
        "        if span['label'] == label:\n",
        "            spans.append((int(span['token_start']), int(span['token_end'])))\n",
        "  to_sum = []\n",
        "  for element in spans:\n",
        "    a = element[1]-element[0]\n",
        "    to_sum.append(a)\n",
        "  print(sum(to_sum))\n",
        "\n",
        "labeled_tokens_per_entity(\"/content/annotations_meta_no_duplicates.jsonl\",\"ACTIVITY\")"
      ]
    },
    {
      "cell_type": "markdown",
      "metadata": {
        "id": "8VDCc5Ni2HPm"
      },
      "source": [
        "## Filter annotations by answer (remove rejected annotations)"
      ]
    },
    {
      "cell_type": "code",
      "execution_count": null,
      "metadata": {
        "id": "aqwnxP3hev4x"
      },
      "outputs": [],
      "source": [
        "import os\n",
        "import srsly\n",
        "\n",
        "def filter_annotations(dir_path, answer=\"reject\"):\n",
        "    tasks = []\n",
        "    texts = [] \n",
        "    data = srsly.read_jsonl(dir_path)\n",
        "    for task in data:\n",
        "          task[\"spans\"] = [span for span in task[\"spans\"]]\n",
        "          if task[\"answer\"] != answer and task[\"text\"] not in texts:\n",
        "              tasks.append(task)\n",
        "              texts.append(task[\"text\"])\n",
        "    srsly.write_jsonl(f\"_{len(tasks)}.jsonl\", tasks)\n",
        "    return tasks\n",
        "    \n",
        "\n",
        "dir_path = \"/content/1847_full_cleaned_20000-23999bb_A-based_predsOLD_ner_858.jsonl\"\n",
        "tasks = filter_annotations(dir_path)"
      ]
    },
    {
      "cell_type": "markdown",
      "source": [
        "## Delete duplicate sentences (if any)"
      ],
      "metadata": {
        "id": "PQFkFKukNj1a"
      }
    },
    {
      "cell_type": "code",
      "execution_count": null,
      "metadata": {
        "id": "qEVnL9dSZzxD"
      },
      "outputs": [],
      "source": [
        "import pandas as pd\n",
        "\n",
        "path = pd.read_json(\"/content/merge1.jsonl\", lines=True)\n",
        "df1 = pd.DataFrame(path)\n",
        "\n",
        "df1.head()"
      ]
    },
    {
      "cell_type": "code",
      "execution_count": null,
      "metadata": {
        "colab": {
          "base_uri": "https://localhost:8080/",
          "height": 424
        },
        "id": "hKGr33M9aLtN",
        "outputId": "b8b409f2-fb82-4888-adef-e1d2bea8071a"
      },
      "outputs": [
        {
          "output_type": "execute_result",
          "data": {
            "text/plain": [
              "                                                  text  \\\n",
              "0    The consortium’s survey of East Los Angeles wa...   \n",
              "1    These criteria were adapted from Singh et al. ...   \n",
              "2    At this time of the year, stored water has bee...   \n",
              "3    We explored these questions by studying the na...   \n",
              "4    Although a number of historians have sought to...   \n",
              "..                                                 ...   \n",
              "240  Goldenrods are pollinated most frequently by h...   \n",
              "241  Genetic variation may indicate the evolutionar...   \n",
              "242  Stations with elevations above 1000 m were exc...   \n",
              "243  Multiple counting of individuals of active spe...   \n",
              "244  To avoid multicollinearity among variables in ...   \n",
              "\n",
              "                                                 spans  \n",
              "0         [{'start': 85, 'end': 142, 'label': 'GOAL'}]  \n",
              "1       [{'start': 0, 'end': 52, 'label': 'ACTIVITY'}]  \n",
              "2       [{'start': 0, 'end': 55, 'label': 'ACTIVITY'}]  \n",
              "3      [{'start': 3, 'end': 106, 'label': 'ACTIVITY'}]  \n",
              "4         [{'start': 47, 'end': 108, 'label': 'GOAL'}]  \n",
              "..                                                 ...  \n",
              "240  [{'start': 0, 'end': 69, 'label': 'ACTIVITY'},...  \n",
              "241  [{'start': 74, 'end': 92, 'label': 'GOAL'}, {'...  \n",
              "242    [{'start': 0, 'end': 124, 'label': 'ACTIVITY'}]  \n",
              "243  [{'start': 104, 'end': 196, 'label': 'ACTIVITY'}]  \n",
              "244         [{'start': 3, 'end': 56, 'label': 'GOAL'}]  \n",
              "\n",
              "[245 rows x 2 columns]"
            ],
            "text/html": [
              "\n",
              "  <div id=\"df-bfbf14cd-d0bb-49f8-89f7-2fdcc61a408c\">\n",
              "    <div class=\"colab-df-container\">\n",
              "      <div>\n",
              "<style scoped>\n",
              "    .dataframe tbody tr th:only-of-type {\n",
              "        vertical-align: middle;\n",
              "    }\n",
              "\n",
              "    .dataframe tbody tr th {\n",
              "        vertical-align: top;\n",
              "    }\n",
              "\n",
              "    .dataframe thead th {\n",
              "        text-align: right;\n",
              "    }\n",
              "</style>\n",
              "<table border=\"1\" class=\"dataframe\">\n",
              "  <thead>\n",
              "    <tr style=\"text-align: right;\">\n",
              "      <th></th>\n",
              "      <th>text</th>\n",
              "      <th>spans</th>\n",
              "    </tr>\n",
              "  </thead>\n",
              "  <tbody>\n",
              "    <tr>\n",
              "      <th>0</th>\n",
              "      <td>The consortium’s survey of East Los Angeles wa...</td>\n",
              "      <td>[{'start': 85, 'end': 142, 'label': 'GOAL'}]</td>\n",
              "    </tr>\n",
              "    <tr>\n",
              "      <th>1</th>\n",
              "      <td>These criteria were adapted from Singh et al. ...</td>\n",
              "      <td>[{'start': 0, 'end': 52, 'label': 'ACTIVITY'}]</td>\n",
              "    </tr>\n",
              "    <tr>\n",
              "      <th>2</th>\n",
              "      <td>At this time of the year, stored water has bee...</td>\n",
              "      <td>[{'start': 0, 'end': 55, 'label': 'ACTIVITY'}]</td>\n",
              "    </tr>\n",
              "    <tr>\n",
              "      <th>3</th>\n",
              "      <td>We explored these questions by studying the na...</td>\n",
              "      <td>[{'start': 3, 'end': 106, 'label': 'ACTIVITY'}]</td>\n",
              "    </tr>\n",
              "    <tr>\n",
              "      <th>4</th>\n",
              "      <td>Although a number of historians have sought to...</td>\n",
              "      <td>[{'start': 47, 'end': 108, 'label': 'GOAL'}]</td>\n",
              "    </tr>\n",
              "    <tr>\n",
              "      <th>...</th>\n",
              "      <td>...</td>\n",
              "      <td>...</td>\n",
              "    </tr>\n",
              "    <tr>\n",
              "      <th>240</th>\n",
              "      <td>Goldenrods are pollinated most frequently by h...</td>\n",
              "      <td>[{'start': 0, 'end': 69, 'label': 'ACTIVITY'},...</td>\n",
              "    </tr>\n",
              "    <tr>\n",
              "      <th>241</th>\n",
              "      <td>Genetic variation may indicate the evolutionar...</td>\n",
              "      <td>[{'start': 74, 'end': 92, 'label': 'GOAL'}, {'...</td>\n",
              "    </tr>\n",
              "    <tr>\n",
              "      <th>242</th>\n",
              "      <td>Stations with elevations above 1000 m were exc...</td>\n",
              "      <td>[{'start': 0, 'end': 124, 'label': 'ACTIVITY'}]</td>\n",
              "    </tr>\n",
              "    <tr>\n",
              "      <th>243</th>\n",
              "      <td>Multiple counting of individuals of active spe...</td>\n",
              "      <td>[{'start': 104, 'end': 196, 'label': 'ACTIVITY'}]</td>\n",
              "    </tr>\n",
              "    <tr>\n",
              "      <th>244</th>\n",
              "      <td>To avoid multicollinearity among variables in ...</td>\n",
              "      <td>[{'start': 3, 'end': 56, 'label': 'GOAL'}]</td>\n",
              "    </tr>\n",
              "  </tbody>\n",
              "</table>\n",
              "<p>245 rows × 2 columns</p>\n",
              "</div>\n",
              "      <button class=\"colab-df-convert\" onclick=\"convertToInteractive('df-bfbf14cd-d0bb-49f8-89f7-2fdcc61a408c')\"\n",
              "              title=\"Convert this dataframe to an interactive table.\"\n",
              "              style=\"display:none;\">\n",
              "        \n",
              "  <svg xmlns=\"http://www.w3.org/2000/svg\" height=\"24px\"viewBox=\"0 0 24 24\"\n",
              "       width=\"24px\">\n",
              "    <path d=\"M0 0h24v24H0V0z\" fill=\"none\"/>\n",
              "    <path d=\"M18.56 5.44l.94 2.06.94-2.06 2.06-.94-2.06-.94-.94-2.06-.94 2.06-2.06.94zm-11 1L8.5 8.5l.94-2.06 2.06-.94-2.06-.94L8.5 2.5l-.94 2.06-2.06.94zm10 10l.94 2.06.94-2.06 2.06-.94-2.06-.94-.94-2.06-.94 2.06-2.06.94z\"/><path d=\"M17.41 7.96l-1.37-1.37c-.4-.4-.92-.59-1.43-.59-.52 0-1.04.2-1.43.59L10.3 9.45l-7.72 7.72c-.78.78-.78 2.05 0 2.83L4 21.41c.39.39.9.59 1.41.59.51 0 1.02-.2 1.41-.59l7.78-7.78 2.81-2.81c.8-.78.8-2.07 0-2.86zM5.41 20L4 18.59l7.72-7.72 1.47 1.35L5.41 20z\"/>\n",
              "  </svg>\n",
              "      </button>\n",
              "      \n",
              "  <style>\n",
              "    .colab-df-container {\n",
              "      display:flex;\n",
              "      flex-wrap:wrap;\n",
              "      gap: 12px;\n",
              "    }\n",
              "\n",
              "    .colab-df-convert {\n",
              "      background-color: #E8F0FE;\n",
              "      border: none;\n",
              "      border-radius: 50%;\n",
              "      cursor: pointer;\n",
              "      display: none;\n",
              "      fill: #1967D2;\n",
              "      height: 32px;\n",
              "      padding: 0 0 0 0;\n",
              "      width: 32px;\n",
              "    }\n",
              "\n",
              "    .colab-df-convert:hover {\n",
              "      background-color: #E2EBFA;\n",
              "      box-shadow: 0px 1px 2px rgba(60, 64, 67, 0.3), 0px 1px 3px 1px rgba(60, 64, 67, 0.15);\n",
              "      fill: #174EA6;\n",
              "    }\n",
              "\n",
              "    [theme=dark] .colab-df-convert {\n",
              "      background-color: #3B4455;\n",
              "      fill: #D2E3FC;\n",
              "    }\n",
              "\n",
              "    [theme=dark] .colab-df-convert:hover {\n",
              "      background-color: #434B5C;\n",
              "      box-shadow: 0px 1px 3px 1px rgba(0, 0, 0, 0.15);\n",
              "      filter: drop-shadow(0px 1px 2px rgba(0, 0, 0, 0.3));\n",
              "      fill: #FFFFFF;\n",
              "    }\n",
              "  </style>\n",
              "\n",
              "      <script>\n",
              "        const buttonEl =\n",
              "          document.querySelector('#df-bfbf14cd-d0bb-49f8-89f7-2fdcc61a408c button.colab-df-convert');\n",
              "        buttonEl.style.display =\n",
              "          google.colab.kernel.accessAllowed ? 'block' : 'none';\n",
              "\n",
              "        async function convertToInteractive(key) {\n",
              "          const element = document.querySelector('#df-bfbf14cd-d0bb-49f8-89f7-2fdcc61a408c');\n",
              "          const dataTable =\n",
              "            await google.colab.kernel.invokeFunction('convertToInteractive',\n",
              "                                                     [key], {});\n",
              "          if (!dataTable) return;\n",
              "\n",
              "          const docLinkHtml = 'Like what you see? Visit the ' +\n",
              "            '<a target=\"_blank\" href=https://colab.research.google.com/notebooks/data_table.ipynb>data table notebook</a>'\n",
              "            + ' to learn more about interactive tables.';\n",
              "          element.innerHTML = '';\n",
              "          dataTable['output_type'] = 'display_data';\n",
              "          await google.colab.output.renderOutput(dataTable, element);\n",
              "          const docLink = document.createElement('div');\n",
              "          docLink.innerHTML = docLinkHtml;\n",
              "          element.appendChild(docLink);\n",
              "        }\n",
              "      </script>\n",
              "    </div>\n",
              "  </div>\n",
              "  "
            ]
          },
          "metadata": {},
          "execution_count": 6
        }
      ],
      "source": [
        "data = df1.drop_duplicates(subset=\"text\", keep=\"first\", ignore_index= True)\n",
        "new_data = pd.DataFrame(data)\n",
        "new_data"
      ]
    },
    {
      "cell_type": "code",
      "execution_count": null,
      "metadata": {
        "id": "NX7Ehh5zalyo"
      },
      "outputs": [],
      "source": [
        "new_data.to_json(\"data.json\", orient='records')"
      ]
    },
    {
      "cell_type": "code",
      "execution_count": null,
      "metadata": {
        "id": "4PQzBXV7awZ-"
      },
      "outputs": [],
      "source": [
        "import json\n",
        "with open('/content/data.json', 'r') as f:\n",
        "    json_data = json.load(f)\n",
        "    \n",
        "with open('annotations_meta_no_duplicates.jsonl', 'w') as outfile:\n",
        "    for entry in json_data:\n",
        "        json.dump(entry, outfile)\n",
        "        outfile.write('\\n')"
      ]
    },
    {
      "cell_type": "markdown",
      "source": [
        "## Split annotations per entity"
      ],
      "metadata": {
        "id": "oYheQUdwNehT"
      }
    },
    {
      "cell_type": "markdown",
      "metadata": {
        "id": "LxPwyoixapHg"
      },
      "source": [
        "### ACTIVITY"
      ]
    },
    {
      "cell_type": "code",
      "execution_count": null,
      "metadata": {
        "id": "ALcK0lR9i4wp"
      },
      "outputs": [],
      "source": [
        "import srsly\n",
        "\n",
        "path=\"/content/ner_ACTIVITY_METHOD_GOAL_RESULT_ACTIMPLIED_9816.jsonl\"\n",
        "data = srsly.read_jsonl(path)\n",
        "examples = []\n",
        "for col in data:\n",
        "  for item in col['spans']:\n",
        "    if item[\"label\"] == \"ACTIVITY\":\n",
        "      spans = [{\"start\": item[\"token_start\"], \"end\": item[\"token_end\"], \"label\": item[\"label\"]}]\n",
        "      examples.append({\"text\": col[\"text\"], \"spans\": spans})\n",
        "      srsly.write_jsonl(\"only_ACT.jsonl\", examples)"
      ]
    },
    {
      "cell_type": "code",
      "execution_count": null,
      "metadata": {
        "colab": {
          "base_uri": "https://localhost:8080/",
          "height": 424
        },
        "id": "qkNly_AvjDvL",
        "outputId": "0baea98d-28f5-4298-84f2-d807745c38c7"
      },
      "outputs": [
        {
          "output_type": "execute_result",
          "data": {
            "text/plain": [
              "                                                   text  \\\n",
              "0     The four genera of Gochnatieae (Cnicothamnus, ...   \n",
              "1     Both cpDNA and nrDNA were used in a phylogenet...   \n",
              "2     I usedmultinomial logistic regression of recov...   \n",
              "3     Clade B is further divided into two clades whe...   \n",
              "4     We analysed a 9-yr time series of carbon fluxe...   \n",
              "...                                                 ...   \n",
              "4177  Abstract Secondary, backscattered, high-resolu...   \n",
              "4178  Long-term measurements of deposition, a one-si...   \n",
              "4179  The fills of the truncating ditch have been re...   \n",
              "4180  QEMSCAN analysis was used to determine rock fa...   \n",
              "4181  Plot locations are indicated by crosses. (a) t...   \n",
              "\n",
              "                                                  spans  \n",
              "0       [{'start': 0, 'end': 175, 'label': 'ACTIVITY'}]  \n",
              "1       [{'start': 0, 'end': 110, 'label': 'ACTIVITY'}]  \n",
              "2       [{'start': 2, 'end': 124, 'label': 'ACTIVITY'}]  \n",
              "3       [{'start': 0, 'end': 196, 'label': 'ACTIVITY'}]  \n",
              "4       [{'start': 3, 'end': 180, 'label': 'ACTIVITY'}]  \n",
              "...                                                 ...  \n",
              "4177    [{'start': 0, 'end': 255, 'label': 'ACTIVITY'}]  \n",
              "4178    [{'start': 0, 'end': 204, 'label': 'ACTIVITY'}]  \n",
              "4179     [{'start': 0, 'end': 65, 'label': 'ACTIVITY'}]  \n",
              "4180     [{'start': 0, 'end': 95, 'label': 'ACTIVITY'}]  \n",
              "4181  [{'start': 669, 'end': 855, 'label': 'ACTIVITY'}]  \n",
              "\n",
              "[4182 rows x 2 columns]"
            ],
            "text/html": [
              "\n",
              "  <div id=\"df-6b1f175b-441a-4367-8f01-2beef599807a\">\n",
              "    <div class=\"colab-df-container\">\n",
              "      <div>\n",
              "<style scoped>\n",
              "    .dataframe tbody tr th:only-of-type {\n",
              "        vertical-align: middle;\n",
              "    }\n",
              "\n",
              "    .dataframe tbody tr th {\n",
              "        vertical-align: top;\n",
              "    }\n",
              "\n",
              "    .dataframe thead th {\n",
              "        text-align: right;\n",
              "    }\n",
              "</style>\n",
              "<table border=\"1\" class=\"dataframe\">\n",
              "  <thead>\n",
              "    <tr style=\"text-align: right;\">\n",
              "      <th></th>\n",
              "      <th>text</th>\n",
              "      <th>spans</th>\n",
              "    </tr>\n",
              "  </thead>\n",
              "  <tbody>\n",
              "    <tr>\n",
              "      <th>0</th>\n",
              "      <td>The four genera of Gochnatieae (Cnicothamnus, ...</td>\n",
              "      <td>[{'start': 0, 'end': 175, 'label': 'ACTIVITY'}]</td>\n",
              "    </tr>\n",
              "    <tr>\n",
              "      <th>1</th>\n",
              "      <td>Both cpDNA and nrDNA were used in a phylogenet...</td>\n",
              "      <td>[{'start': 0, 'end': 110, 'label': 'ACTIVITY'}]</td>\n",
              "    </tr>\n",
              "    <tr>\n",
              "      <th>2</th>\n",
              "      <td>I usedmultinomial logistic regression of recov...</td>\n",
              "      <td>[{'start': 2, 'end': 124, 'label': 'ACTIVITY'}]</td>\n",
              "    </tr>\n",
              "    <tr>\n",
              "      <th>3</th>\n",
              "      <td>Clade B is further divided into two clades whe...</td>\n",
              "      <td>[{'start': 0, 'end': 196, 'label': 'ACTIVITY'}]</td>\n",
              "    </tr>\n",
              "    <tr>\n",
              "      <th>4</th>\n",
              "      <td>We analysed a 9-yr time series of carbon fluxe...</td>\n",
              "      <td>[{'start': 3, 'end': 180, 'label': 'ACTIVITY'}]</td>\n",
              "    </tr>\n",
              "    <tr>\n",
              "      <th>...</th>\n",
              "      <td>...</td>\n",
              "      <td>...</td>\n",
              "    </tr>\n",
              "    <tr>\n",
              "      <th>4177</th>\n",
              "      <td>Abstract Secondary, backscattered, high-resolu...</td>\n",
              "      <td>[{'start': 0, 'end': 255, 'label': 'ACTIVITY'}]</td>\n",
              "    </tr>\n",
              "    <tr>\n",
              "      <th>4178</th>\n",
              "      <td>Long-term measurements of deposition, a one-si...</td>\n",
              "      <td>[{'start': 0, 'end': 204, 'label': 'ACTIVITY'}]</td>\n",
              "    </tr>\n",
              "    <tr>\n",
              "      <th>4179</th>\n",
              "      <td>The fills of the truncating ditch have been re...</td>\n",
              "      <td>[{'start': 0, 'end': 65, 'label': 'ACTIVITY'}]</td>\n",
              "    </tr>\n",
              "    <tr>\n",
              "      <th>4180</th>\n",
              "      <td>QEMSCAN analysis was used to determine rock fa...</td>\n",
              "      <td>[{'start': 0, 'end': 95, 'label': 'ACTIVITY'}]</td>\n",
              "    </tr>\n",
              "    <tr>\n",
              "      <th>4181</th>\n",
              "      <td>Plot locations are indicated by crosses. (a) t...</td>\n",
              "      <td>[{'start': 669, 'end': 855, 'label': 'ACTIVITY'}]</td>\n",
              "    </tr>\n",
              "  </tbody>\n",
              "</table>\n",
              "<p>4182 rows × 2 columns</p>\n",
              "</div>\n",
              "      <button class=\"colab-df-convert\" onclick=\"convertToInteractive('df-6b1f175b-441a-4367-8f01-2beef599807a')\"\n",
              "              title=\"Convert this dataframe to an interactive table.\"\n",
              "              style=\"display:none;\">\n",
              "        \n",
              "  <svg xmlns=\"http://www.w3.org/2000/svg\" height=\"24px\"viewBox=\"0 0 24 24\"\n",
              "       width=\"24px\">\n",
              "    <path d=\"M0 0h24v24H0V0z\" fill=\"none\"/>\n",
              "    <path d=\"M18.56 5.44l.94 2.06.94-2.06 2.06-.94-2.06-.94-.94-2.06-.94 2.06-2.06.94zm-11 1L8.5 8.5l.94-2.06 2.06-.94-2.06-.94L8.5 2.5l-.94 2.06-2.06.94zm10 10l.94 2.06.94-2.06 2.06-.94-2.06-.94-.94-2.06-.94 2.06-2.06.94z\"/><path d=\"M17.41 7.96l-1.37-1.37c-.4-.4-.92-.59-1.43-.59-.52 0-1.04.2-1.43.59L10.3 9.45l-7.72 7.72c-.78.78-.78 2.05 0 2.83L4 21.41c.39.39.9.59 1.41.59.51 0 1.02-.2 1.41-.59l7.78-7.78 2.81-2.81c.8-.78.8-2.07 0-2.86zM5.41 20L4 18.59l7.72-7.72 1.47 1.35L5.41 20z\"/>\n",
              "  </svg>\n",
              "      </button>\n",
              "      \n",
              "  <style>\n",
              "    .colab-df-container {\n",
              "      display:flex;\n",
              "      flex-wrap:wrap;\n",
              "      gap: 12px;\n",
              "    }\n",
              "\n",
              "    .colab-df-convert {\n",
              "      background-color: #E8F0FE;\n",
              "      border: none;\n",
              "      border-radius: 50%;\n",
              "      cursor: pointer;\n",
              "      display: none;\n",
              "      fill: #1967D2;\n",
              "      height: 32px;\n",
              "      padding: 0 0 0 0;\n",
              "      width: 32px;\n",
              "    }\n",
              "\n",
              "    .colab-df-convert:hover {\n",
              "      background-color: #E2EBFA;\n",
              "      box-shadow: 0px 1px 2px rgba(60, 64, 67, 0.3), 0px 1px 3px 1px rgba(60, 64, 67, 0.15);\n",
              "      fill: #174EA6;\n",
              "    }\n",
              "\n",
              "    [theme=dark] .colab-df-convert {\n",
              "      background-color: #3B4455;\n",
              "      fill: #D2E3FC;\n",
              "    }\n",
              "\n",
              "    [theme=dark] .colab-df-convert:hover {\n",
              "      background-color: #434B5C;\n",
              "      box-shadow: 0px 1px 3px 1px rgba(0, 0, 0, 0.15);\n",
              "      filter: drop-shadow(0px 1px 2px rgba(0, 0, 0, 0.3));\n",
              "      fill: #FFFFFF;\n",
              "    }\n",
              "  </style>\n",
              "\n",
              "      <script>\n",
              "        const buttonEl =\n",
              "          document.querySelector('#df-6b1f175b-441a-4367-8f01-2beef599807a button.colab-df-convert');\n",
              "        buttonEl.style.display =\n",
              "          google.colab.kernel.accessAllowed ? 'block' : 'none';\n",
              "\n",
              "        async function convertToInteractive(key) {\n",
              "          const element = document.querySelector('#df-6b1f175b-441a-4367-8f01-2beef599807a');\n",
              "          const dataTable =\n",
              "            await google.colab.kernel.invokeFunction('convertToInteractive',\n",
              "                                                     [key], {});\n",
              "          if (!dataTable) return;\n",
              "\n",
              "          const docLinkHtml = 'Like what you see? Visit the ' +\n",
              "            '<a target=\"_blank\" href=https://colab.research.google.com/notebooks/data_table.ipynb>data table notebook</a>'\n",
              "            + ' to learn more about interactive tables.';\n",
              "          element.innerHTML = '';\n",
              "          dataTable['output_type'] = 'display_data';\n",
              "          await google.colab.output.renderOutput(dataTable, element);\n",
              "          const docLink = document.createElement('div');\n",
              "          docLink.innerHTML = docLinkHtml;\n",
              "          element.appendChild(docLink);\n",
              "        }\n",
              "      </script>\n",
              "    </div>\n",
              "  </div>\n",
              "  "
            ]
          },
          "metadata": {},
          "execution_count": 2
        }
      ],
      "source": [
        "#create dataframe to combine data with same column \"text\"\n",
        "import pandas as pd\n",
        "\n",
        "path = pd.read_json(\"only_ACT.jsonl\", lines=True)\n",
        "df = pd.DataFrame(path)\n",
        "df"
      ]
    },
    {
      "cell_type": "code",
      "execution_count": null,
      "metadata": {
        "colab": {
          "base_uri": "https://localhost:8080/",
          "height": 424
        },
        "id": "VCzTxHj2jKVw",
        "outputId": "bd282e29-f8f0-4e7a-d856-0ac834c8cde7"
      },
      "outputs": [
        {
          "output_type": "execute_result",
          "data": {
            "text/plain": [
              "                                                   text  \\\n",
              "0     (2009), we also implemented a Bayesian stochas...   \n",
              "1     (5) Extended R-Value analysis was carried out ...   \n",
              "2     -17.9±0.2 1097±38 1060 840 1005 C27 106 49 1.7...   \n",
              "3     0.10 ' Large seeds were weighed individually (...   \n",
              "4     1 A Holocene sedimentary sequence from a coast...   \n",
              "...                                                 ...   \n",
              "3814  • Methods Qualitative and quantitative wood an...   \n",
              "3815  • Sporocarps, needles, and litter from Woods C...   \n",
              "3816  • We examined the EM community associated with...   \n",
              "3817  • We grew three subantarctic and three alpine ...   \n",
              "3818  •Methods ICP-OES was used to measure Mn and ot...   \n",
              "\n",
              "                                                  spans  \n",
              "0       [{'start': 11, 'end': 85, 'label': 'ACTIVITY'}]  \n",
              "1       [{'start': 4, 'end': 128, 'label': 'ACTIVITY'}]  \n",
              "2     [{'start': 169, 'end': 328, 'label': 'ACTIVITY'}]  \n",
              "3        [{'start': 7, 'end': 44, 'label': 'ACTIVITY'}]  \n",
              "4       [{'start': 2, 'end': 188, 'label': 'ACTIVITY'}]  \n",
              "...                                                 ...  \n",
              "3814   [{'start': 10, 'end': 218, 'label': 'ACTIVITY'}]  \n",
              "3815    [{'start': 0, 'end': 157, 'label': 'ACTIVITY'}]  \n",
              "3816    [{'start': 5, 'end': 270, 'label': 'ACTIVITY'}]  \n",
              "3817  [{'start': 5, 'end': 99, 'label': 'ACTIVITY'},...  \n",
              "3818     [{'start': 9, 'end': 25, 'label': 'ACTIVITY'}]  \n",
              "\n",
              "[3819 rows x 2 columns]"
            ],
            "text/html": [
              "\n",
              "  <div id=\"df-00a85551-ca4e-4006-b8e2-5784ca3cef65\">\n",
              "    <div class=\"colab-df-container\">\n",
              "      <div>\n",
              "<style scoped>\n",
              "    .dataframe tbody tr th:only-of-type {\n",
              "        vertical-align: middle;\n",
              "    }\n",
              "\n",
              "    .dataframe tbody tr th {\n",
              "        vertical-align: top;\n",
              "    }\n",
              "\n",
              "    .dataframe thead th {\n",
              "        text-align: right;\n",
              "    }\n",
              "</style>\n",
              "<table border=\"1\" class=\"dataframe\">\n",
              "  <thead>\n",
              "    <tr style=\"text-align: right;\">\n",
              "      <th></th>\n",
              "      <th>text</th>\n",
              "      <th>spans</th>\n",
              "    </tr>\n",
              "  </thead>\n",
              "  <tbody>\n",
              "    <tr>\n",
              "      <th>0</th>\n",
              "      <td>(2009), we also implemented a Bayesian stochas...</td>\n",
              "      <td>[{'start': 11, 'end': 85, 'label': 'ACTIVITY'}]</td>\n",
              "    </tr>\n",
              "    <tr>\n",
              "      <th>1</th>\n",
              "      <td>(5) Extended R-Value analysis was carried out ...</td>\n",
              "      <td>[{'start': 4, 'end': 128, 'label': 'ACTIVITY'}]</td>\n",
              "    </tr>\n",
              "    <tr>\n",
              "      <th>2</th>\n",
              "      <td>-17.9±0.2 1097±38 1060 840 1005 C27 106 49 1.7...</td>\n",
              "      <td>[{'start': 169, 'end': 328, 'label': 'ACTIVITY'}]</td>\n",
              "    </tr>\n",
              "    <tr>\n",
              "      <th>3</th>\n",
              "      <td>0.10 ' Large seeds were weighed individually (...</td>\n",
              "      <td>[{'start': 7, 'end': 44, 'label': 'ACTIVITY'}]</td>\n",
              "    </tr>\n",
              "    <tr>\n",
              "      <th>4</th>\n",
              "      <td>1 A Holocene sedimentary sequence from a coast...</td>\n",
              "      <td>[{'start': 2, 'end': 188, 'label': 'ACTIVITY'}]</td>\n",
              "    </tr>\n",
              "    <tr>\n",
              "      <th>...</th>\n",
              "      <td>...</td>\n",
              "      <td>...</td>\n",
              "    </tr>\n",
              "    <tr>\n",
              "      <th>3814</th>\n",
              "      <td>• Methods Qualitative and quantitative wood an...</td>\n",
              "      <td>[{'start': 10, 'end': 218, 'label': 'ACTIVITY'}]</td>\n",
              "    </tr>\n",
              "    <tr>\n",
              "      <th>3815</th>\n",
              "      <td>• Sporocarps, needles, and litter from Woods C...</td>\n",
              "      <td>[{'start': 0, 'end': 157, 'label': 'ACTIVITY'}]</td>\n",
              "    </tr>\n",
              "    <tr>\n",
              "      <th>3816</th>\n",
              "      <td>• We examined the EM community associated with...</td>\n",
              "      <td>[{'start': 5, 'end': 270, 'label': 'ACTIVITY'}]</td>\n",
              "    </tr>\n",
              "    <tr>\n",
              "      <th>3817</th>\n",
              "      <td>• We grew three subantarctic and three alpine ...</td>\n",
              "      <td>[{'start': 5, 'end': 99, 'label': 'ACTIVITY'},...</td>\n",
              "    </tr>\n",
              "    <tr>\n",
              "      <th>3818</th>\n",
              "      <td>•Methods ICP-OES was used to measure Mn and ot...</td>\n",
              "      <td>[{'start': 9, 'end': 25, 'label': 'ACTIVITY'}]</td>\n",
              "    </tr>\n",
              "  </tbody>\n",
              "</table>\n",
              "<p>3819 rows × 2 columns</p>\n",
              "</div>\n",
              "      <button class=\"colab-df-convert\" onclick=\"convertToInteractive('df-00a85551-ca4e-4006-b8e2-5784ca3cef65')\"\n",
              "              title=\"Convert this dataframe to an interactive table.\"\n",
              "              style=\"display:none;\">\n",
              "        \n",
              "  <svg xmlns=\"http://www.w3.org/2000/svg\" height=\"24px\"viewBox=\"0 0 24 24\"\n",
              "       width=\"24px\">\n",
              "    <path d=\"M0 0h24v24H0V0z\" fill=\"none\"/>\n",
              "    <path d=\"M18.56 5.44l.94 2.06.94-2.06 2.06-.94-2.06-.94-.94-2.06-.94 2.06-2.06.94zm-11 1L8.5 8.5l.94-2.06 2.06-.94-2.06-.94L8.5 2.5l-.94 2.06-2.06.94zm10 10l.94 2.06.94-2.06 2.06-.94-2.06-.94-.94-2.06-.94 2.06-2.06.94z\"/><path d=\"M17.41 7.96l-1.37-1.37c-.4-.4-.92-.59-1.43-.59-.52 0-1.04.2-1.43.59L10.3 9.45l-7.72 7.72c-.78.78-.78 2.05 0 2.83L4 21.41c.39.39.9.59 1.41.59.51 0 1.02-.2 1.41-.59l7.78-7.78 2.81-2.81c.8-.78.8-2.07 0-2.86zM5.41 20L4 18.59l7.72-7.72 1.47 1.35L5.41 20z\"/>\n",
              "  </svg>\n",
              "      </button>\n",
              "      \n",
              "  <style>\n",
              "    .colab-df-container {\n",
              "      display:flex;\n",
              "      flex-wrap:wrap;\n",
              "      gap: 12px;\n",
              "    }\n",
              "\n",
              "    .colab-df-convert {\n",
              "      background-color: #E8F0FE;\n",
              "      border: none;\n",
              "      border-radius: 50%;\n",
              "      cursor: pointer;\n",
              "      display: none;\n",
              "      fill: #1967D2;\n",
              "      height: 32px;\n",
              "      padding: 0 0 0 0;\n",
              "      width: 32px;\n",
              "    }\n",
              "\n",
              "    .colab-df-convert:hover {\n",
              "      background-color: #E2EBFA;\n",
              "      box-shadow: 0px 1px 2px rgba(60, 64, 67, 0.3), 0px 1px 3px 1px rgba(60, 64, 67, 0.15);\n",
              "      fill: #174EA6;\n",
              "    }\n",
              "\n",
              "    [theme=dark] .colab-df-convert {\n",
              "      background-color: #3B4455;\n",
              "      fill: #D2E3FC;\n",
              "    }\n",
              "\n",
              "    [theme=dark] .colab-df-convert:hover {\n",
              "      background-color: #434B5C;\n",
              "      box-shadow: 0px 1px 3px 1px rgba(0, 0, 0, 0.15);\n",
              "      filter: drop-shadow(0px 1px 2px rgba(0, 0, 0, 0.3));\n",
              "      fill: #FFFFFF;\n",
              "    }\n",
              "  </style>\n",
              "\n",
              "      <script>\n",
              "        const buttonEl =\n",
              "          document.querySelector('#df-00a85551-ca4e-4006-b8e2-5784ca3cef65 button.colab-df-convert');\n",
              "        buttonEl.style.display =\n",
              "          google.colab.kernel.accessAllowed ? 'block' : 'none';\n",
              "\n",
              "        async function convertToInteractive(key) {\n",
              "          const element = document.querySelector('#df-00a85551-ca4e-4006-b8e2-5784ca3cef65');\n",
              "          const dataTable =\n",
              "            await google.colab.kernel.invokeFunction('convertToInteractive',\n",
              "                                                     [key], {});\n",
              "          if (!dataTable) return;\n",
              "\n",
              "          const docLinkHtml = 'Like what you see? Visit the ' +\n",
              "            '<a target=\"_blank\" href=https://colab.research.google.com/notebooks/data_table.ipynb>data table notebook</a>'\n",
              "            + ' to learn more about interactive tables.';\n",
              "          element.innerHTML = '';\n",
              "          dataTable['output_type'] = 'display_data';\n",
              "          await google.colab.output.renderOutput(dataTable, element);\n",
              "          const docLink = document.createElement('div');\n",
              "          docLink.innerHTML = docLinkHtml;\n",
              "          element.appendChild(docLink);\n",
              "        }\n",
              "      </script>\n",
              "    </div>\n",
              "  </div>\n",
              "  "
            ]
          },
          "metadata": {},
          "execution_count": 3
        }
      ],
      "source": [
        "merged = df.groupby(['text'], as_index=False)['spans'].sum()\n",
        "new_df = pd.DataFrame(merged)\n",
        "new_df"
      ]
    },
    {
      "cell_type": "code",
      "execution_count": null,
      "metadata": {
        "id": "mKKEHS6TjRI7"
      },
      "outputs": [],
      "source": [
        "#save dataframe to json file\n",
        "new_df.to_json(\"export_df.json\", orient='records')#convert json to jsonl\n",
        "import json\n",
        "\n",
        "with open('/content/export_df.json', 'r') as f:\n",
        "    json_data = json.load(f)\n",
        "    \n",
        "with open('only_ACT_final.jsonl', 'w') as outfile:\n",
        "    for entry in json_data:\n",
        "        json.dump(entry, outfile)\n",
        "        outfile.write('\\n')"
      ]
    },
    {
      "cell_type": "markdown",
      "metadata": {
        "id": "KZN_PSJHZ58f"
      },
      "source": [
        "### GOAL"
      ]
    },
    {
      "cell_type": "code",
      "execution_count": null,
      "metadata": {
        "id": "zT-JSXsFX3Jc"
      },
      "outputs": [],
      "source": [
        "import srsly\n",
        "\n",
        "path=\"/content/ner_ACTIVITY_METHOD_GOAL_RESULT_ACTIMPLIED_9816.jsonl\"\n",
        "data = srsly.read_jsonl(path)\n",
        "examples = []\n",
        "for col in data:\n",
        "  for item in col['spans']:\n",
        "    if item[\"label\"] == \"GOAL\":\n",
        "      spans = [{\"start\": item[\"start\"], \"end\": item[\"end\"], \"label\": item[\"label\"]}]\n",
        "      examples.append({\"text\": col[\"text\"], \"spans\": spans, 'meta':col[\"meta\"]})\n",
        "      srsly.write_jsonl(\"only_GOAL.jsonl\", examples)"
      ]
    },
    {
      "cell_type": "code",
      "execution_count": null,
      "metadata": {
        "colab": {
          "base_uri": "https://localhost:8080/"
        },
        "id": "d9fFQzyFZPUd",
        "outputId": "6edf3be8-4a27-403c-b67c-6befe671668b"
      },
      "outputs": [
        {
          "output_type": "execute_result",
          "data": {
            "text/plain": [
              "                                                   text  \\\n",
              "0     Here, we aimed to identify which drivers contr...   \n",
              "1     We combined SDMs and microsatellite data from ...   \n",
              "2     To reconstruct phylogenetic relationships, we ...   \n",
              "3     Ultrasonic emission analysis enabled new insig...   \n",
              "4     We used a dataset of nuclear ITS and LSU ribos...   \n",
              "...                                                 ...   \n",
              "1808  While stable isotope analyses of vertebrate fo...   \n",
              "1809  as well as to understand the zircon population...   \n",
              "1810  New Phytologist Research 1277 Table 1 Seven un...   \n",
              "1811  QEMSCAN analysis was used to determine rock fa...   \n",
              "1812  Hence, this research makes use of the couple d...   \n",
              "\n",
              "                                              spans  \\\n",
              "0      [{'start': 18, 'end': 129, 'label': 'GOAL'}]   \n",
              "1     [{'start': 196, 'end': 321, 'label': 'GOAL'}]   \n",
              "2        [{'start': 3, 'end': 41, 'label': 'GOAL'}]   \n",
              "3     [{'start': 114, 'end': 147, 'label': 'GOAL'}]   \n",
              "4      [{'start': 81, 'end': 176, 'label': 'GOAL'}]   \n",
              "...                                             ...   \n",
              "1808  [{'start': 231, 'end': 266, 'label': 'GOAL'}]   \n",
              "1809    [{'start': 14, 'end': 65, 'label': 'GOAL'}]   \n",
              "1810   [{'start': 88, 'end': 143, 'label': 'GOAL'}]   \n",
              "1811    [{'start': 29, 'end': 50, 'label': 'GOAL'}]   \n",
              "1812  [{'start': 101, 'end': 179, 'label': 'GOAL'}]   \n",
              "\n",
              "                                                   meta  \n",
              "0     {'id': 'http://www.jstor.org/stable/newphytolo...  \n",
              "1     {'id': 'http://www.jstor.org/stable/newphytolo...  \n",
              "2     {'id': 'http://www.jstor.org/stable/taxon.62.4...  \n",
              "3     {'id': 'http://www.jstor.org/stable/newphytolo...  \n",
              "4     {'id': 'http://www.jstor.org/stable/taxon.62.5...  \n",
              "...                                                 ...  \n",
              "1808                                               None  \n",
              "1809                                               None  \n",
              "1810                                               None  \n",
              "1811                                               None  \n",
              "1812                                               None  \n",
              "\n",
              "[1813 rows x 3 columns]"
            ],
            "text/html": [
              "\n",
              "  <div id=\"df-f4e3e33e-55a3-4b0c-8d98-3550df7e26f6\">\n",
              "    <div class=\"colab-df-container\">\n",
              "      <div>\n",
              "<style scoped>\n",
              "    .dataframe tbody tr th:only-of-type {\n",
              "        vertical-align: middle;\n",
              "    }\n",
              "\n",
              "    .dataframe tbody tr th {\n",
              "        vertical-align: top;\n",
              "    }\n",
              "\n",
              "    .dataframe thead th {\n",
              "        text-align: right;\n",
              "    }\n",
              "</style>\n",
              "<table border=\"1\" class=\"dataframe\">\n",
              "  <thead>\n",
              "    <tr style=\"text-align: right;\">\n",
              "      <th></th>\n",
              "      <th>text</th>\n",
              "      <th>spans</th>\n",
              "      <th>meta</th>\n",
              "    </tr>\n",
              "  </thead>\n",
              "  <tbody>\n",
              "    <tr>\n",
              "      <th>0</th>\n",
              "      <td>Here, we aimed to identify which drivers contr...</td>\n",
              "      <td>[{'start': 18, 'end': 129, 'label': 'GOAL'}]</td>\n",
              "      <td>{'id': 'http://www.jstor.org/stable/newphytolo...</td>\n",
              "    </tr>\n",
              "    <tr>\n",
              "      <th>1</th>\n",
              "      <td>We combined SDMs and microsatellite data from ...</td>\n",
              "      <td>[{'start': 196, 'end': 321, 'label': 'GOAL'}]</td>\n",
              "      <td>{'id': 'http://www.jstor.org/stable/newphytolo...</td>\n",
              "    </tr>\n",
              "    <tr>\n",
              "      <th>2</th>\n",
              "      <td>To reconstruct phylogenetic relationships, we ...</td>\n",
              "      <td>[{'start': 3, 'end': 41, 'label': 'GOAL'}]</td>\n",
              "      <td>{'id': 'http://www.jstor.org/stable/taxon.62.4...</td>\n",
              "    </tr>\n",
              "    <tr>\n",
              "      <th>3</th>\n",
              "      <td>Ultrasonic emission analysis enabled new insig...</td>\n",
              "      <td>[{'start': 114, 'end': 147, 'label': 'GOAL'}]</td>\n",
              "      <td>{'id': 'http://www.jstor.org/stable/newphytolo...</td>\n",
              "    </tr>\n",
              "    <tr>\n",
              "      <th>4</th>\n",
              "      <td>We used a dataset of nuclear ITS and LSU ribos...</td>\n",
              "      <td>[{'start': 81, 'end': 176, 'label': 'GOAL'}]</td>\n",
              "      <td>{'id': 'http://www.jstor.org/stable/taxon.62.5...</td>\n",
              "    </tr>\n",
              "    <tr>\n",
              "      <th>...</th>\n",
              "      <td>...</td>\n",
              "      <td>...</td>\n",
              "      <td>...</td>\n",
              "    </tr>\n",
              "    <tr>\n",
              "      <th>1808</th>\n",
              "      <td>While stable isotope analyses of vertebrate fo...</td>\n",
              "      <td>[{'start': 231, 'end': 266, 'label': 'GOAL'}]</td>\n",
              "      <td>None</td>\n",
              "    </tr>\n",
              "    <tr>\n",
              "      <th>1809</th>\n",
              "      <td>as well as to understand the zircon population...</td>\n",
              "      <td>[{'start': 14, 'end': 65, 'label': 'GOAL'}]</td>\n",
              "      <td>None</td>\n",
              "    </tr>\n",
              "    <tr>\n",
              "      <th>1810</th>\n",
              "      <td>New Phytologist Research 1277 Table 1 Seven un...</td>\n",
              "      <td>[{'start': 88, 'end': 143, 'label': 'GOAL'}]</td>\n",
              "      <td>None</td>\n",
              "    </tr>\n",
              "    <tr>\n",
              "      <th>1811</th>\n",
              "      <td>QEMSCAN analysis was used to determine rock fa...</td>\n",
              "      <td>[{'start': 29, 'end': 50, 'label': 'GOAL'}]</td>\n",
              "      <td>None</td>\n",
              "    </tr>\n",
              "    <tr>\n",
              "      <th>1812</th>\n",
              "      <td>Hence, this research makes use of the couple d...</td>\n",
              "      <td>[{'start': 101, 'end': 179, 'label': 'GOAL'}]</td>\n",
              "      <td>None</td>\n",
              "    </tr>\n",
              "  </tbody>\n",
              "</table>\n",
              "<p>1813 rows × 3 columns</p>\n",
              "</div>\n",
              "      <button class=\"colab-df-convert\" onclick=\"convertToInteractive('df-f4e3e33e-55a3-4b0c-8d98-3550df7e26f6')\"\n",
              "              title=\"Convert this dataframe to an interactive table.\"\n",
              "              style=\"display:none;\">\n",
              "        \n",
              "  <svg xmlns=\"http://www.w3.org/2000/svg\" height=\"24px\"viewBox=\"0 0 24 24\"\n",
              "       width=\"24px\">\n",
              "    <path d=\"M0 0h24v24H0V0z\" fill=\"none\"/>\n",
              "    <path d=\"M18.56 5.44l.94 2.06.94-2.06 2.06-.94-2.06-.94-.94-2.06-.94 2.06-2.06.94zm-11 1L8.5 8.5l.94-2.06 2.06-.94-2.06-.94L8.5 2.5l-.94 2.06-2.06.94zm10 10l.94 2.06.94-2.06 2.06-.94-2.06-.94-.94-2.06-.94 2.06-2.06.94z\"/><path d=\"M17.41 7.96l-1.37-1.37c-.4-.4-.92-.59-1.43-.59-.52 0-1.04.2-1.43.59L10.3 9.45l-7.72 7.72c-.78.78-.78 2.05 0 2.83L4 21.41c.39.39.9.59 1.41.59.51 0 1.02-.2 1.41-.59l7.78-7.78 2.81-2.81c.8-.78.8-2.07 0-2.86zM5.41 20L4 18.59l7.72-7.72 1.47 1.35L5.41 20z\"/>\n",
              "  </svg>\n",
              "      </button>\n",
              "      \n",
              "  <style>\n",
              "    .colab-df-container {\n",
              "      display:flex;\n",
              "      flex-wrap:wrap;\n",
              "      gap: 12px;\n",
              "    }\n",
              "\n",
              "    .colab-df-convert {\n",
              "      background-color: #E8F0FE;\n",
              "      border: none;\n",
              "      border-radius: 50%;\n",
              "      cursor: pointer;\n",
              "      display: none;\n",
              "      fill: #1967D2;\n",
              "      height: 32px;\n",
              "      padding: 0 0 0 0;\n",
              "      width: 32px;\n",
              "    }\n",
              "\n",
              "    .colab-df-convert:hover {\n",
              "      background-color: #E2EBFA;\n",
              "      box-shadow: 0px 1px 2px rgba(60, 64, 67, 0.3), 0px 1px 3px 1px rgba(60, 64, 67, 0.15);\n",
              "      fill: #174EA6;\n",
              "    }\n",
              "\n",
              "    [theme=dark] .colab-df-convert {\n",
              "      background-color: #3B4455;\n",
              "      fill: #D2E3FC;\n",
              "    }\n",
              "\n",
              "    [theme=dark] .colab-df-convert:hover {\n",
              "      background-color: #434B5C;\n",
              "      box-shadow: 0px 1px 3px 1px rgba(0, 0, 0, 0.15);\n",
              "      filter: drop-shadow(0px 1px 2px rgba(0, 0, 0, 0.3));\n",
              "      fill: #FFFFFF;\n",
              "    }\n",
              "  </style>\n",
              "\n",
              "      <script>\n",
              "        const buttonEl =\n",
              "          document.querySelector('#df-f4e3e33e-55a3-4b0c-8d98-3550df7e26f6 button.colab-df-convert');\n",
              "        buttonEl.style.display =\n",
              "          google.colab.kernel.accessAllowed ? 'block' : 'none';\n",
              "\n",
              "        async function convertToInteractive(key) {\n",
              "          const element = document.querySelector('#df-f4e3e33e-55a3-4b0c-8d98-3550df7e26f6');\n",
              "          const dataTable =\n",
              "            await google.colab.kernel.invokeFunction('convertToInteractive',\n",
              "                                                     [key], {});\n",
              "          if (!dataTable) return;\n",
              "\n",
              "          const docLinkHtml = 'Like what you see? Visit the ' +\n",
              "            '<a target=\"_blank\" href=https://colab.research.google.com/notebooks/data_table.ipynb>data table notebook</a>'\n",
              "            + ' to learn more about interactive tables.';\n",
              "          element.innerHTML = '';\n",
              "          dataTable['output_type'] = 'display_data';\n",
              "          await google.colab.output.renderOutput(dataTable, element);\n",
              "          const docLink = document.createElement('div');\n",
              "          docLink.innerHTML = docLinkHtml;\n",
              "          element.appendChild(docLink);\n",
              "        }\n",
              "      </script>\n",
              "    </div>\n",
              "  </div>\n",
              "  "
            ]
          },
          "metadata": {},
          "execution_count": 24
        }
      ],
      "source": [
        "#create dataframe to combine data with same column \"text\"\n",
        "import pandas as pd\n",
        "\n",
        "path = pd.read_json(\"/content/only_GOAL.jsonl\", lines=True)\n",
        "df = pd.DataFrame(path)\n",
        "df"
      ]
    },
    {
      "cell_type": "code",
      "execution_count": null,
      "metadata": {
        "colab": {
          "base_uri": "https://localhost:8080/"
        },
        "id": "Eg51dQKsZgmU",
        "outputId": "85d54ac1-b446-414f-e059-d8f3f9a1894b"
      },
      "outputs": [
        {
          "output_type": "execute_result",
          "data": {
            "text/plain": [
              "                                                   text  \\\n",
              "0     (2) Species distribution models (SDMs): the IA...   \n",
              "1     (2009), we also implemented a Bayesian stochas...   \n",
              "2     (5) Extended R-Value analysis was carried out ...   \n",
              "3     1 We used dendrochronology to reconstruct the ...   \n",
              "4     1. A. A laser and two plumb lines were used to...   \n",
              "...                                                 ...   \n",
              "1594  χ2tests and one-way ANOVA were performed to te...   \n",
              "1595  • Methods Allozyme electrophoresis of seven lo...   \n",
              "1596  • Methods DNA flow cytometry was used together...   \n",
              "1597  • Methods Phylogenetic analyses of DNA sequenc...   \n",
              "1598  •Methods ICP-OES was used to measure Mn and ot...   \n",
              "\n",
              "                                              spans  \n",
              "0     [{'start': 169, 'end': 203, 'label': 'GOAL'}]  \n",
              "1      [{'start': 89, 'end': 148, 'label': 'GOAL'}]  \n",
              "2     [{'start': 132, 'end': 219, 'label': 'GOAL'}]  \n",
              "3      [{'start': 30, 'end': 143, 'label': 'GOAL'}]  \n",
              "4      [{'start': 47, 'end': 109, 'label': 'GOAL'}]  \n",
              "...                                             ...  \n",
              "1594   [{'start': 44, 'end': 146, 'label': 'GOAL'}]  \n",
              "1595   [{'start': 79, 'end': 138, 'label': 'GOAL'}]  \n",
              "1596   [{'start': 86, 'end': 176, 'label': 'GOAL'}]  \n",
              "1597  [{'start': 110, 'end': 146, 'label': 'GOAL'}]  \n",
              "1598   [{'start': 29, 'end': 212, 'label': 'GOAL'}]  \n",
              "\n",
              "[1599 rows x 2 columns]"
            ],
            "text/html": [
              "\n",
              "  <div id=\"df-a765e6d5-1981-46b2-86da-63a516b2a025\">\n",
              "    <div class=\"colab-df-container\">\n",
              "      <div>\n",
              "<style scoped>\n",
              "    .dataframe tbody tr th:only-of-type {\n",
              "        vertical-align: middle;\n",
              "    }\n",
              "\n",
              "    .dataframe tbody tr th {\n",
              "        vertical-align: top;\n",
              "    }\n",
              "\n",
              "    .dataframe thead th {\n",
              "        text-align: right;\n",
              "    }\n",
              "</style>\n",
              "<table border=\"1\" class=\"dataframe\">\n",
              "  <thead>\n",
              "    <tr style=\"text-align: right;\">\n",
              "      <th></th>\n",
              "      <th>text</th>\n",
              "      <th>spans</th>\n",
              "    </tr>\n",
              "  </thead>\n",
              "  <tbody>\n",
              "    <tr>\n",
              "      <th>0</th>\n",
              "      <td>(2) Species distribution models (SDMs): the IA...</td>\n",
              "      <td>[{'start': 169, 'end': 203, 'label': 'GOAL'}]</td>\n",
              "    </tr>\n",
              "    <tr>\n",
              "      <th>1</th>\n",
              "      <td>(2009), we also implemented a Bayesian stochas...</td>\n",
              "      <td>[{'start': 89, 'end': 148, 'label': 'GOAL'}]</td>\n",
              "    </tr>\n",
              "    <tr>\n",
              "      <th>2</th>\n",
              "      <td>(5) Extended R-Value analysis was carried out ...</td>\n",
              "      <td>[{'start': 132, 'end': 219, 'label': 'GOAL'}]</td>\n",
              "    </tr>\n",
              "    <tr>\n",
              "      <th>3</th>\n",
              "      <td>1 We used dendrochronology to reconstruct the ...</td>\n",
              "      <td>[{'start': 30, 'end': 143, 'label': 'GOAL'}]</td>\n",
              "    </tr>\n",
              "    <tr>\n",
              "      <th>4</th>\n",
              "      <td>1. A. A laser and two plumb lines were used to...</td>\n",
              "      <td>[{'start': 47, 'end': 109, 'label': 'GOAL'}]</td>\n",
              "    </tr>\n",
              "    <tr>\n",
              "      <th>...</th>\n",
              "      <td>...</td>\n",
              "      <td>...</td>\n",
              "    </tr>\n",
              "    <tr>\n",
              "      <th>1594</th>\n",
              "      <td>χ2tests and one-way ANOVA were performed to te...</td>\n",
              "      <td>[{'start': 44, 'end': 146, 'label': 'GOAL'}]</td>\n",
              "    </tr>\n",
              "    <tr>\n",
              "      <th>1595</th>\n",
              "      <td>• Methods Allozyme electrophoresis of seven lo...</td>\n",
              "      <td>[{'start': 79, 'end': 138, 'label': 'GOAL'}]</td>\n",
              "    </tr>\n",
              "    <tr>\n",
              "      <th>1596</th>\n",
              "      <td>• Methods DNA flow cytometry was used together...</td>\n",
              "      <td>[{'start': 86, 'end': 176, 'label': 'GOAL'}]</td>\n",
              "    </tr>\n",
              "    <tr>\n",
              "      <th>1597</th>\n",
              "      <td>• Methods Phylogenetic analyses of DNA sequenc...</td>\n",
              "      <td>[{'start': 110, 'end': 146, 'label': 'GOAL'}]</td>\n",
              "    </tr>\n",
              "    <tr>\n",
              "      <th>1598</th>\n",
              "      <td>•Methods ICP-OES was used to measure Mn and ot...</td>\n",
              "      <td>[{'start': 29, 'end': 212, 'label': 'GOAL'}]</td>\n",
              "    </tr>\n",
              "  </tbody>\n",
              "</table>\n",
              "<p>1599 rows × 2 columns</p>\n",
              "</div>\n",
              "      <button class=\"colab-df-convert\" onclick=\"convertToInteractive('df-a765e6d5-1981-46b2-86da-63a516b2a025')\"\n",
              "              title=\"Convert this dataframe to an interactive table.\"\n",
              "              style=\"display:none;\">\n",
              "        \n",
              "  <svg xmlns=\"http://www.w3.org/2000/svg\" height=\"24px\"viewBox=\"0 0 24 24\"\n",
              "       width=\"24px\">\n",
              "    <path d=\"M0 0h24v24H0V0z\" fill=\"none\"/>\n",
              "    <path d=\"M18.56 5.44l.94 2.06.94-2.06 2.06-.94-2.06-.94-.94-2.06-.94 2.06-2.06.94zm-11 1L8.5 8.5l.94-2.06 2.06-.94-2.06-.94L8.5 2.5l-.94 2.06-2.06.94zm10 10l.94 2.06.94-2.06 2.06-.94-2.06-.94-.94-2.06-.94 2.06-2.06.94z\"/><path d=\"M17.41 7.96l-1.37-1.37c-.4-.4-.92-.59-1.43-.59-.52 0-1.04.2-1.43.59L10.3 9.45l-7.72 7.72c-.78.78-.78 2.05 0 2.83L4 21.41c.39.39.9.59 1.41.59.51 0 1.02-.2 1.41-.59l7.78-7.78 2.81-2.81c.8-.78.8-2.07 0-2.86zM5.41 20L4 18.59l7.72-7.72 1.47 1.35L5.41 20z\"/>\n",
              "  </svg>\n",
              "      </button>\n",
              "      \n",
              "  <style>\n",
              "    .colab-df-container {\n",
              "      display:flex;\n",
              "      flex-wrap:wrap;\n",
              "      gap: 12px;\n",
              "    }\n",
              "\n",
              "    .colab-df-convert {\n",
              "      background-color: #E8F0FE;\n",
              "      border: none;\n",
              "      border-radius: 50%;\n",
              "      cursor: pointer;\n",
              "      display: none;\n",
              "      fill: #1967D2;\n",
              "      height: 32px;\n",
              "      padding: 0 0 0 0;\n",
              "      width: 32px;\n",
              "    }\n",
              "\n",
              "    .colab-df-convert:hover {\n",
              "      background-color: #E2EBFA;\n",
              "      box-shadow: 0px 1px 2px rgba(60, 64, 67, 0.3), 0px 1px 3px 1px rgba(60, 64, 67, 0.15);\n",
              "      fill: #174EA6;\n",
              "    }\n",
              "\n",
              "    [theme=dark] .colab-df-convert {\n",
              "      background-color: #3B4455;\n",
              "      fill: #D2E3FC;\n",
              "    }\n",
              "\n",
              "    [theme=dark] .colab-df-convert:hover {\n",
              "      background-color: #434B5C;\n",
              "      box-shadow: 0px 1px 3px 1px rgba(0, 0, 0, 0.15);\n",
              "      filter: drop-shadow(0px 1px 2px rgba(0, 0, 0, 0.3));\n",
              "      fill: #FFFFFF;\n",
              "    }\n",
              "  </style>\n",
              "\n",
              "      <script>\n",
              "        const buttonEl =\n",
              "          document.querySelector('#df-a765e6d5-1981-46b2-86da-63a516b2a025 button.colab-df-convert');\n",
              "        buttonEl.style.display =\n",
              "          google.colab.kernel.accessAllowed ? 'block' : 'none';\n",
              "\n",
              "        async function convertToInteractive(key) {\n",
              "          const element = document.querySelector('#df-a765e6d5-1981-46b2-86da-63a516b2a025');\n",
              "          const dataTable =\n",
              "            await google.colab.kernel.invokeFunction('convertToInteractive',\n",
              "                                                     [key], {});\n",
              "          if (!dataTable) return;\n",
              "\n",
              "          const docLinkHtml = 'Like what you see? Visit the ' +\n",
              "            '<a target=\"_blank\" href=https://colab.research.google.com/notebooks/data_table.ipynb>data table notebook</a>'\n",
              "            + ' to learn more about interactive tables.';\n",
              "          element.innerHTML = '';\n",
              "          dataTable['output_type'] = 'display_data';\n",
              "          await google.colab.output.renderOutput(dataTable, element);\n",
              "          const docLink = document.createElement('div');\n",
              "          docLink.innerHTML = docLinkHtml;\n",
              "          element.appendChild(docLink);\n",
              "        }\n",
              "      </script>\n",
              "    </div>\n",
              "  </div>\n",
              "  "
            ]
          },
          "metadata": {},
          "execution_count": 25
        }
      ],
      "source": [
        "merged = df.groupby(['text'], as_index=False)['spans'].sum()\n",
        "new_df = pd.DataFrame(merged)\n",
        "new_df"
      ]
    },
    {
      "cell_type": "code",
      "execution_count": null,
      "metadata": {
        "id": "xUTXTBkMZr9t"
      },
      "outputs": [],
      "source": [
        "#save dataframe to json file\n",
        "new_df.to_json(\"export_df.json\", orient='records')#convert json to jsonl\n",
        "import json\n",
        "\n",
        "with open('/content/export_df.json', 'r') as f:\n",
        "    json_data = json.load(f)\n",
        "    \n",
        "with open('only_GOAL_final.jsonl', 'w') as outfile:\n",
        "    for entry in json_data:\n",
        "        json.dump(entry, outfile)\n",
        "        outfile.write('\\n')"
      ]
    },
    {
      "cell_type": "markdown",
      "metadata": {
        "id": "lncTpptgaBTM"
      },
      "source": [
        "### No label sentences"
      ]
    },
    {
      "cell_type": "code",
      "execution_count": null,
      "metadata": {
        "id": "y7OK4LRZaFFn"
      },
      "outputs": [],
      "source": [
        "import srsly\n",
        "\n",
        "path=\"/content/ner_ACTIVITY_METHOD_GOAL_RESULT_ACTIMPLIED_9816.jsonl\"\n",
        "data = srsly.read_jsonl(path)\n",
        "spans = []\n",
        "examples = []\n",
        "for col in data:\n",
        "    if len(col['spans']) == 0:\n",
        "      examples.append({\"text\": col[\"text\"], \"spans\": spans})\n",
        "      srsly.write_jsonl(\"no_labels.jsonl\", examples)"
      ]
    },
    {
      "cell_type": "markdown",
      "source": [
        "# Machine Learning process"
      ],
      "metadata": {
        "id": "Gk4_gNFAHSxN"
      }
    },
    {
      "cell_type": "markdown",
      "metadata": {
        "id": "bZAC3n9b19BY"
      },
      "source": [
        "## Spacy NER model (baseline)"
      ]
    },
    {
      "cell_type": "code",
      "execution_count": null,
      "metadata": {
        "colab": {
          "base_uri": "https://localhost:8080/"
        },
        "id": "nd-9mpuHf1EX",
        "outputId": "99822745-424a-44dc-e446-1e03d2c43f61"
      },
      "outputs": [
        {
          "output_type": "stream",
          "name": "stdout",
          "text": [
            "\u001b[38;5;2m✔ Auto-filled config with all values\u001b[0m\n",
            "\u001b[38;5;2m✔ Saved config\u001b[0m\n",
            "config.cfg\n",
            "You can now add your data and train your pipeline:\n",
            "python -m spacy train config.cfg --paths.train ./train.spacy --paths.dev ./dev.spacy\n",
            "\u001b[38;5;2m✔ Created output directory: output-dir\u001b[0m\n",
            "\u001b[38;5;4mℹ Saving to output directory: output-dir\u001b[0m\n",
            "\u001b[38;5;4mℹ Using CPU\u001b[0m\n",
            "\u001b[38;5;4mℹ To switch to GPU 0, use the option: --gpu-id 0\u001b[0m\n",
            "\u001b[1m\n",
            "=========================== Initializing pipeline ===========================\u001b[0m\n",
            "[2022-11-03 09:50:16,306] [INFO] Set up nlp object from config\n",
            "INFO:spacy:Set up nlp object from config\n",
            "[2022-11-03 09:50:16,317] [INFO] Pipeline: ['tok2vec', 'ner']\n",
            "INFO:spacy:Pipeline: ['tok2vec', 'ner']\n",
            "[2022-11-03 09:50:16,321] [INFO] Created vocabulary\n",
            "INFO:spacy:Created vocabulary\n",
            "[2022-11-03 09:50:16,322] [INFO] Finished initializing nlp object\n",
            "INFO:spacy:Finished initializing nlp object\n",
            "[2022-11-03 09:50:17,086] [INFO] Initialized pipeline components: ['tok2vec', 'ner']\n",
            "INFO:spacy:Initialized pipeline components: ['tok2vec', 'ner']\n",
            "\u001b[38;5;2m✔ Initialized pipeline\u001b[0m\n",
            "\u001b[1m\n",
            "============================= Training pipeline =============================\u001b[0m\n",
            "\u001b[38;5;4mℹ Pipeline: ['tok2vec', 'ner']\u001b[0m\n",
            "\u001b[38;5;4mℹ Initial learn rate: 0.001\u001b[0m\n",
            "E    #       LOSS TOK2VEC  LOSS NER  ENTS_F  ENTS_P  ENTS_R  SCORE \n",
            "---  ------  ------------  --------  ------  ------  ------  ------\n",
            "  0       0          0.00     44.50    0.00    0.00    0.00    0.00\n",
            "  0     200       1358.72   1902.09   40.00   34.38   47.83    0.40\n",
            "  1     400         46.55    662.83   44.44   51.43   39.13    0.44\n",
            "  2     600         81.44    692.62   42.11   53.33   34.78    0.42\n",
            "  3     800         86.22    561.69   45.00   52.94   39.13    0.45\n",
            "  5    1000        143.24    417.68   50.67   65.52   41.30    0.51\n",
            "  7    1200        138.18    294.19   38.36   51.85   30.43    0.38\n",
            " 10    1400        205.19    273.02   42.25   60.00   32.61    0.42\n",
            " 13    1600        288.48    250.23   43.59   53.12   36.96    0.44\n",
            " 17    1800        284.31    174.15   36.84   46.67   30.43    0.37\n",
            " 22    2000        299.95    165.25   42.50   50.00   36.96    0.42\n",
            " 28    2200        308.20    129.33   45.57   54.55   39.13    0.46\n",
            " 35    2400        665.45    115.11   44.19   47.50   41.30    0.44\n",
            " 42    2600        261.91     68.71   49.38   57.14   43.48    0.49\n",
            "\u001b[38;5;2m✔ Saved pipeline to output directory\u001b[0m\n",
            "output-dir/model-last\n",
            "\u001b[38;5;4mℹ Using CPU\u001b[0m\n",
            "\u001b[38;5;4mℹ To switch to GPU 0, use the option: --gpu-id 0\u001b[0m\n",
            "\u001b[1m\n",
            "================================== Results ==================================\u001b[0m\n",
            "\n",
            "TOK     100.00\n",
            "NER P   44.00 \n",
            "NER R   30.14 \n",
            "NER F   35.77 \n",
            "SPEED   24727 \n",
            "\n",
            "\u001b[1m\n",
            "=============================== NER (per type) ===============================\u001b[0m\n",
            "\n",
            "             P       R       F\n",
            "RESULT   44.00   30.14   35.77\n",
            "\n",
            "\u001b[38;5;2m✔ Saved results to ner_ACT.jsonl\u001b[0m\n"
          ]
        }
      ],
      "source": [
        "!python -m spacy init fill-config base_config.cfg config.cfg\n",
        "\n",
        "!python -m spacy train config.cfg --output ./output-dir --paths.train /content/Spacy/train.spacy --paths.dev /content/Spacy/dev.spacy\n",
        "\n",
        "#evaluation\n",
        "!python -m spacy evaluate ./output-dir/model-best /content/Spacy/eval.spacy --output ner_ACT.jsonl"
      ]
    },
    {
      "cell_type": "markdown",
      "source": [
        "## Custom Word Embeddings\n",
        "\n"
      ],
      "metadata": {
        "id": "TDs3JIRLIkBr"
      }
    },
    {
      "cell_type": "markdown",
      "source": [
        "### Import all libraries which will be used"
      ],
      "metadata": {
        "id": "0kH5sOKoTGPk"
      }
    },
    {
      "cell_type": "code",
      "execution_count": null,
      "metadata": {
        "id": "s7zVfle3rigD"
      },
      "outputs": [],
      "source": [
        "import nltk\n",
        "nltk.download('punkt')"
      ]
    },
    {
      "cell_type": "code",
      "source": [
        "import gensim\n",
        "from gensim.models import Word2Vec\n",
        "from gensim.models.keyedvectors import KeyedVectors"
      ],
      "metadata": {
        "id": "ynL6Dd5vSudo"
      },
      "execution_count": null,
      "outputs": []
    },
    {
      "cell_type": "code",
      "source": [
        "import srsly"
      ],
      "metadata": {
        "id": "hNcojt3ES0GW"
      },
      "execution_count": null,
      "outputs": []
    },
    {
      "cell_type": "code",
      "source": [
        "import spacy"
      ],
      "metadata": {
        "id": "6wkoF9jBTS7M"
      },
      "execution_count": null,
      "outputs": []
    },
    {
      "cell_type": "markdown",
      "metadata": {
        "id": "NUw-TgnW2wtx"
      },
      "source": [
        "### Word Embeddings from paper abstracts"
      ]
    },
    {
      "cell_type": "markdown",
      "metadata": {
        "id": "ok8y1UzBj30H"
      },
      "source": [
        "####Create embeddings"
      ]
    },
    {
      "cell_type": "code",
      "execution_count": null,
      "metadata": {
        "id": "aIk6c2L1GTYb"
      },
      "outputs": [],
      "source": [
        "data = srsly.read_jsonl(\"./abstract-sents.jsonl\")\n",
        "sum_sents = []\n",
        "for col in data:\n",
        "      sent = col[\"text\"]\n",
        "      sum_sents.append(sent)\n",
        "\n",
        "sum_lists =[]\n",
        "for sent in sum_sents:\n",
        "  prep_text = gensim.utils.simple_preprocess(sent, deacc=False, min_len=2, max_len=30)\n",
        "  sum_lists.append(prep_text)"
      ]
    },
    {
      "cell_type": "code",
      "source": [
        "#train\n",
        "model = Word2Vec(sentences= sum_lists, sg=1, hs=1, vector_size=300, workers=12, epochs=5)\n",
        "# save model\n",
        "model.wv.save_word2vec_format('JSTOR_abstracts_sents_300.txt')\n",
        "# load model\n",
        "KeyedVectors.load_word2vec_format(\"JSTOR_abstracts_sents_300.txt\", binary=False)"
      ],
      "metadata": {
        "id": "KglOG80gRS3n"
      },
      "execution_count": null,
      "outputs": []
    },
    {
      "cell_type": "markdown",
      "metadata": {
        "id": "ARWacP6mj71i"
      },
      "source": [
        "#### ML with embeddings from abstracts"
      ]
    },
    {
      "cell_type": "code",
      "execution_count": null,
      "metadata": {
        "colab": {
          "base_uri": "https://localhost:8080/"
        },
        "id": "G09fiz5J-PK6",
        "outputId": "0c34d1ff-81f5-4730-c21f-5b054cb76e9c"
      },
      "outputs": [
        {
          "output_type": "stream",
          "name": "stdout",
          "text": [
            "\u001b[38;5;4mℹ Creating blank nlp object for language 'en'\u001b[0m\n",
            "[2022-11-03 09:54:41,891] [INFO] Reading vectors from /content/drive/MyDrive/MODELS_W2V/JSTOR_abstracts_sents_300.txt\n",
            "INFO:spacy:Reading vectors from /content/drive/MyDrive/MODELS_W2V/JSTOR_abstracts_sents_300.txt\n",
            "34506it [00:03, 8792.61it/s] \n",
            "[2022-11-03 09:54:46,974] [INFO] Loaded vectors from /content/drive/MyDrive/MODELS_W2V/JSTOR_abstracts_sents_300.txt\n",
            "INFO:spacy:Loaded vectors from /content/drive/MyDrive/MODELS_W2V/JSTOR_abstracts_sents_300.txt\n",
            "\u001b[38;5;2m✔ Successfully converted 34506 vectors\u001b[0m\n",
            "\u001b[38;5;2m✔ Saved nlp object with vectors to output directory. You can now use\n",
            "the path to it in your config as the 'vectors' setting in [initialize].\u001b[0m\n",
            "/content/abs\n"
          ]
        }
      ],
      "source": [
        "import spacy\n",
        "\n",
        "# init vectors using the txt embeddings file \n",
        "!python -m spacy init vectors en /content/drive/MyDrive/MODELS_W2V/JSTOR_abstracts_sents_300.txt /content/abs --name JSTOR_abs_model"
      ]
    },
    {
      "cell_type": "code",
      "execution_count": null,
      "metadata": {
        "colab": {
          "base_uri": "https://localhost:8080/"
        },
        "id": "46FWVLWsaSpi",
        "outputId": "8c7f3bd3-95ed-4330-c7de-3c0d49d1aa42"
      },
      "outputs": [
        {
          "output_type": "stream",
          "name": "stdout",
          "text": [
            "\u001b[38;5;3m⚠ To generate a more effective transformer-based config (GPU-only),\n",
            "install the spacy-transformers package and re-run this command. The config\n",
            "generated now does not use transformers.\u001b[0m\n",
            "\u001b[38;5;4mℹ Generated config template specific for your use case\u001b[0m\n",
            "- Language: en\n",
            "- Pipeline: ner\n",
            "- Optimize for: accuracy\n",
            "- Hardware: CPU\n",
            "- Transformer: None\n",
            "\u001b[38;5;2m✔ Auto-filled config with all values\u001b[0m\n",
            "\u001b[38;5;2m✔ Saved config\u001b[0m\n",
            "ner.cfg\n",
            "You can now add your data and train your pipeline:\n",
            "python -m spacy train ner.cfg --paths.train ./train.spacy --paths.dev ./dev.spacy\n"
          ]
        }
      ],
      "source": [
        "!python -m spacy init config -p ner -o accuracy ner.cfg"
      ]
    },
    {
      "cell_type": "code",
      "execution_count": null,
      "metadata": {
        "id": "7z_GNiN1BNzB"
      },
      "outputs": [],
      "source": [
        "nlp = spacy.load(\"./abs\")\n",
        "#nlp.add_pipe(\"ner\")\n",
        "nlp.to_disk(\"./abs\")"
      ]
    },
    {
      "cell_type": "code",
      "execution_count": null,
      "metadata": {
        "colab": {
          "base_uri": "https://localhost:8080/"
        },
        "id": "SWVnheWuBnAA",
        "outputId": "d8d0e141-7491-4906-aac0-eecbf8aebb30"
      },
      "outputs": [
        {
          "output_type": "stream",
          "name": "stdout",
          "text": [
            "\u001b[38;5;4mℹ Saving to output directory: abs\u001b[0m\n",
            "\u001b[38;5;4mℹ Using GPU: 0\u001b[0m\n",
            "\u001b[1m\n",
            "=========================== Initializing pipeline ===========================\u001b[0m\n",
            "[2022-11-03 09:55:27,875] [INFO] Set up nlp object from config\n",
            "INFO:spacy:Set up nlp object from config\n",
            "[2022-11-03 09:55:27,888] [INFO] Pipeline: ['tok2vec', 'ner']\n",
            "INFO:spacy:Pipeline: ['tok2vec', 'ner']\n",
            "[2022-11-03 09:55:27,893] [INFO] Created vocabulary\n",
            "INFO:spacy:Created vocabulary\n",
            "[2022-11-03 09:55:28,306] [INFO] Added vectors: ./abs\n",
            "INFO:spacy:Added vectors: ./abs\n",
            "[2022-11-03 09:55:28,466] [INFO] Finished initializing nlp object\n",
            "INFO:spacy:Finished initializing nlp object\n",
            "[2022-11-03 09:55:43,086] [INFO] Initialized pipeline components: ['tok2vec', 'ner']\n",
            "INFO:spacy:Initialized pipeline components: ['tok2vec', 'ner']\n",
            "\u001b[38;5;2m✔ Initialized pipeline\u001b[0m\n",
            "\u001b[1m\n",
            "============================= Training pipeline =============================\u001b[0m\n",
            "\u001b[38;5;4mℹ Pipeline: ['tok2vec', 'ner']\u001b[0m\n",
            "\u001b[38;5;4mℹ Initial learn rate: 0.001\u001b[0m\n",
            "E    #       LOSS TOK2VEC  LOSS NER  ENTS_F  ENTS_P  ENTS_R  SCORE \n",
            "---  ------  ------------  --------  ------  ------  ------  ------\n",
            "  0       0          0.00     44.50    0.00    0.00    0.00    0.00\n",
            "  0     200         74.04   1246.53   39.51   45.71   34.78    0.40\n",
            "  1     400         11.06    662.93   42.11   53.33   34.78    0.42\n",
            "  2     600         15.61    686.86   51.95   64.52   43.48    0.52\n",
            "  3     800         27.18    607.83   32.94   35.90   30.43    0.33\n",
            "  5    1000         56.07    494.95   50.60   56.76   45.65    0.51\n",
            "  7    1200         76.55    428.46   43.18   45.24   41.30    0.43\n",
            " 10    1400        134.97    312.01   40.96   45.95   36.96    0.41\n",
            " 13    1600        168.17    279.61   46.32   44.90   47.83    0.46\n",
            " 17    1800        252.50    228.50   40.54   53.57   32.61    0.41\n",
            " 22    2000        276.21    123.24   48.19   54.05   43.48    0.48\n",
            " 28    2200        314.22    100.79   47.62   52.63   43.48    0.48\n",
            "\u001b[38;5;2m✔ Saved pipeline to output directory\u001b[0m\n",
            "abs/model-last\n"
          ]
        }
      ],
      "source": [
        "!python -m spacy train /content/abs/ner.cfg --paths.train ./Spacy/train.spacy --paths.dev ./Spacy/dev.spacy --output ./abs/ --paths.vectors ./abs -g 0"
      ]
    },
    {
      "cell_type": "code",
      "execution_count": null,
      "metadata": {
        "colab": {
          "base_uri": "https://localhost:8080/"
        },
        "id": "C40BWstyEfOx",
        "outputId": "e5bfa9f6-6bef-4bd1-c039-371740d32262"
      },
      "outputs": [
        {
          "output_type": "stream",
          "name": "stdout",
          "text": [
            "\u001b[38;5;4mℹ Using GPU: 0\u001b[0m\n",
            "\u001b[1m\n",
            "================================== Results ==================================\u001b[0m\n",
            "\n",
            "TOK     100.00\n",
            "NER P   51.02 \n",
            "NER R   34.25 \n",
            "NER F   40.98 \n",
            "SPEED   5569  \n",
            "\n",
            "\u001b[1m\n",
            "=============================== NER (per type) ===============================\u001b[0m\n",
            "\n",
            "             P       R       F\n",
            "RESULT   51.02   34.25   40.98\n",
            "\n",
            "\u001b[38;5;2m✔ Saved results to ner_ACT_with_abs_vectors.jsonl\u001b[0m\n"
          ]
        }
      ],
      "source": [
        "!python -m spacy evaluate ./abs/model-best ./Spacy/eval.spacy --output ner_ACT_with_abs_vectors.jsonl -g 0"
      ]
    },
    {
      "cell_type": "markdown",
      "metadata": {
        "id": "LmwOKQJZFcSP"
      },
      "source": [
        "###  Word Embeddings from uncleaned text"
      ]
    },
    {
      "cell_type": "markdown",
      "metadata": {
        "id": "F1PnGYfnoxB5"
      },
      "source": [
        "#### Create embeddings"
      ]
    },
    {
      "cell_type": "code",
      "execution_count": null,
      "metadata": {
        "colab": {
          "base_uri": "https://localhost:8080/"
        },
        "id": "X1376wRKV0xI",
        "outputId": "b4fa88ec-1d53-4792-aa78-73fb2a8b40b3"
      },
      "outputs": [
        {
          "name": "stderr",
          "output_type": "stream",
          "text": [
            "[nltk_data] Downloading package punkt to /root/nltk_data...\n",
            "[nltk_data]   Package punkt is already up-to-date!\n"
          ]
        }
      ],
      "source": [
        "import os \n",
        "\n",
        "dir_path = \"/content/drive/MyDrive/for_w2v\"\n",
        "\n",
        "sum_sents = []\n",
        "files = os.listdir(dir_path)\n",
        "for file in files:\n",
        "      data = srsly.read_jsonl(dir_path+\"/\"+file)\n",
        "      for col in data:\n",
        "        sent = col[\"text\"]\n",
        "        sum_sents.append(sent)\n",
        "\n",
        "sum_lists =[]\n",
        "for sent in sum_sents:\n",
        "  prep_text = gensim.utils.simple_preprocess(sent, deacc=False, min_len=2, max_len=25)\n",
        "  sum_lists.append(prep_text)"
      ]
    },
    {
      "cell_type": "code",
      "execution_count": null,
      "metadata": {
        "id": "iWjsN7ZjUyQF"
      },
      "outputs": [],
      "source": [
        "#train model\n",
        "model = Word2Vec(sentences= sum_lists, sg=1, hs=1, vector_size=300, workers=12, epochs=5)\n",
        "# save model\n",
        "model.wv.save_word2vec_format('JSTOR_uncleaned_sents_model.txt')\n",
        "# load model\n",
        "KeyedVectors.load_word2vec_format(\"JSTOR_uncleaned_sents_model.txt\", binary=False)"
      ]
    },
    {
      "cell_type": "markdown",
      "metadata": {
        "id": "QWDtMcfio57Y"
      },
      "source": [
        "#### ML with embeddings from uncleaned text"
      ]
    },
    {
      "cell_type": "code",
      "execution_count": null,
      "metadata": {
        "colab": {
          "base_uri": "https://localhost:8080/"
        },
        "id": "fb8qte2elwnH",
        "outputId": "e2225952-e2f2-462b-fb50-118faf1aff1c"
      },
      "outputs": [
        {
          "output_type": "stream",
          "name": "stdout",
          "text": [
            "\u001b[38;5;4mℹ Creating blank nlp object for language 'en'\u001b[0m\n",
            "[2022-10-29 16:33:13,914] [INFO] Reading vectors from /content/drive/MyDrive/MODELS_W2V/JSTOR_uncleaned_sents_model_300.txt\n",
            "INFO:spacy:Reading vectors from /content/drive/MyDrive/MODELS_W2V/JSTOR_uncleaned_sents_model_300.txt\n",
            "245107it [00:15, 15929.03it/s]\n",
            "[2022-10-29 16:33:29,847] [INFO] Loaded vectors from /content/drive/MyDrive/MODELS_W2V/JSTOR_uncleaned_sents_model_300.txt\n",
            "INFO:spacy:Loaded vectors from /content/drive/MyDrive/MODELS_W2V/JSTOR_uncleaned_sents_model_300.txt\n",
            "\u001b[38;5;2m✔ Successfully converted 245107 vectors\u001b[0m\n",
            "\u001b[38;5;2m✔ Saved nlp object with vectors to output directory. You can now use\n",
            "the path to it in your config as the 'vectors' setting in [initialize].\u001b[0m\n",
            "/content/uncl_txt\n"
          ]
        }
      ],
      "source": [
        "import spacy\n",
        "\n",
        "# init vectors using the txt embeddings file \n",
        "!python -m spacy init vectors en /content/drive/MyDrive/MODELS_W2V/JSTOR_uncleaned_sents_model_300.txt ./uncl_txt --name JSTOR_unlceaned_sents_model"
      ]
    },
    {
      "cell_type": "code",
      "execution_count": null,
      "metadata": {
        "colab": {
          "base_uri": "https://localhost:8080/"
        },
        "id": "pnGIdr00XJo7",
        "outputId": "1f75c279-c9e5-4a6f-babf-7fc5edea64c7"
      },
      "outputs": [
        {
          "output_type": "stream",
          "name": "stdout",
          "text": [
            "\u001b[38;5;3m⚠ To generate a more effective transformer-based config (GPU-only),\n",
            "install the spacy-transformers package and re-run this command. The config\n",
            "generated now does not use transformers.\u001b[0m\n",
            "\u001b[38;5;4mℹ Generated config template specific for your use case\u001b[0m\n",
            "- Language: en\n",
            "- Pipeline: ner\n",
            "- Optimize for: accuracy\n",
            "- Hardware: CPU\n",
            "- Transformer: None\n",
            "\u001b[38;5;2m✔ Auto-filled config with all values\u001b[0m\n",
            "\u001b[38;5;2m✔ Saved config\u001b[0m\n",
            "ner.cfg\n",
            "You can now add your data and train your pipeline:\n",
            "python -m spacy train ner.cfg --paths.train ./train.spacy --paths.dev ./dev.spacy\n"
          ]
        }
      ],
      "source": [
        "!python -m spacy init config -p ner -o accuracy ner.cfg"
      ]
    },
    {
      "cell_type": "code",
      "execution_count": null,
      "metadata": {
        "id": "cUDOj60LmY6x"
      },
      "outputs": [],
      "source": [
        "nlp = spacy.load(\"./uncl_txt\")\n",
        "#nlp.add_pipe(\"ner\")\n",
        "nlp.to_disk(\"./uncl_txt\")"
      ]
    },
    {
      "cell_type": "code",
      "execution_count": null,
      "metadata": {
        "colab": {
          "base_uri": "https://localhost:8080/"
        },
        "id": "3rfsS5BdmhKg",
        "outputId": "480e0ffa-4cba-4d19-86f0-ed61ed62dac7"
      },
      "outputs": [
        {
          "output_type": "stream",
          "name": "stdout",
          "text": [
            "\u001b[38;5;4mℹ Saving to output directory: uncl_txt\u001b[0m\n",
            "\u001b[38;5;4mℹ Using GPU: 0\u001b[0m\n",
            "\u001b[1m\n",
            "=========================== Initializing pipeline ===========================\u001b[0m\n",
            "[2022-10-29 16:34:07,331] [INFO] Set up nlp object from config\n",
            "INFO:spacy:Set up nlp object from config\n",
            "[2022-10-29 16:34:07,342] [INFO] Pipeline: ['tok2vec', 'ner']\n",
            "INFO:spacy:Pipeline: ['tok2vec', 'ner']\n",
            "[2022-10-29 16:34:07,346] [INFO] Created vocabulary\n",
            "INFO:spacy:Created vocabulary\n",
            "[2022-10-29 16:34:08,614] [INFO] Added vectors: ./uncl_txt\n",
            "INFO:spacy:Added vectors: ./uncl_txt\n",
            "[2022-10-29 16:34:09,648] [INFO] Finished initializing nlp object\n",
            "INFO:spacy:Finished initializing nlp object\n",
            "[2022-10-29 16:34:13,994] [INFO] Initialized pipeline components: ['tok2vec', 'ner']\n",
            "INFO:spacy:Initialized pipeline components: ['tok2vec', 'ner']\n",
            "\u001b[38;5;2m✔ Initialized pipeline\u001b[0m\n",
            "\u001b[1m\n",
            "============================= Training pipeline =============================\u001b[0m\n",
            "\u001b[38;5;4mℹ Pipeline: ['tok2vec', 'ner']\u001b[0m\n",
            "\u001b[38;5;4mℹ Initial learn rate: 0.001\u001b[0m\n",
            "E    #       LOSS TOK2VEC  LOSS NER  ENTS_F  ENTS_P  ENTS_R  SCORE \n",
            "---  ------  ------------  --------  ------  ------  ------  ------\n",
            "  0       0          0.00     10.50    0.00    0.00    0.00    0.00\n",
            "  0     200         79.82   1314.15    5.00   40.00    2.67    0.05\n",
            "  0     400          8.57    862.94   39.39   45.61   34.67    0.39\n",
            "  1     600         15.76    950.72   36.92   43.64   32.00    0.37\n",
            "  2     800         20.78   1029.91   35.37   36.11   34.67    0.35\n",
            "  3    1000         32.18   1005.91   42.25   44.78   40.00    0.42\n",
            "  4    1200         54.86    877.82   34.29   36.92   32.00    0.34\n",
            "  6    1400         73.66    753.30   38.30   40.91   36.00    0.38\n",
            "  8    1600         71.91    602.93   38.24   42.62   34.67    0.38\n",
            " 10    1800        100.82    507.43   39.71   44.26   36.00    0.40\n",
            " 13    2000        142.32    411.07   43.48   47.62   40.00    0.43\n",
            " 17    2200        221.69    350.27   40.00   50.00   33.33    0.40\n",
            " 21    2400        254.19    265.00   49.65   53.03   46.67    0.50\n",
            " 26    2600        349.33    213.27   48.12   55.17   42.67    0.48\n",
            " 30    2800       1626.49    175.68   46.15   48.53   44.00    0.46\n",
            " 35    3000        429.13    127.63   41.61   41.89   41.33    0.42\n",
            " 39    3200        581.39    151.72   42.34   46.77   38.67    0.42\n",
            " 44    3400        503.06     99.08   42.34   46.77   38.67    0.42\n",
            " 48    3600        620.46    130.56   41.32   54.35   33.33    0.41\n",
            " 53    3800        824.95    115.73   39.06   47.17   33.33    0.39\n",
            " 57    4000        680.21    122.22   41.22   48.21   36.00    0.41\n",
            "\u001b[38;5;2m✔ Saved pipeline to output directory\u001b[0m\n",
            "uncl_txt/model-last\n"
          ]
        }
      ],
      "source": [
        "!python -m spacy train /content/uncl_txt/ner.cfg --paths.train ./Spacy/train.spacy --paths.dev ./Spacy/dev.spacy --output ./uncl_txt --paths.vectors ./uncl_txt -g 0"
      ]
    },
    {
      "cell_type": "code",
      "execution_count": null,
      "metadata": {
        "colab": {
          "base_uri": "https://localhost:8080/"
        },
        "id": "NnbN90rAmww-",
        "outputId": "6319eedc-9406-45aa-cae6-4ff8d612494d"
      },
      "outputs": [
        {
          "output_type": "stream",
          "name": "stdout",
          "text": [
            "\u001b[38;5;4mℹ Using GPU: 0\u001b[0m\n",
            "\u001b[1m\n",
            "================================== Results ==================================\u001b[0m\n",
            "\n",
            "TOK     100.00\n",
            "NER P   44.86 \n",
            "NER R   39.34 \n",
            "NER F   41.92 \n",
            "SPEED   8193  \n",
            "\n",
            "\u001b[1m\n",
            "=============================== NER (per type) ===============================\u001b[0m\n",
            "\n",
            "             P       R       F\n",
            "RESULT   44.86   39.34   41.92\n",
            "\n",
            "\u001b[38;5;2m✔ Saved results to ner_with_uncleaned_sents_vectors.jsonl\u001b[0m\n"
          ]
        }
      ],
      "source": [
        "!python -m spacy evaluate /content/uncl_txt/model-best ./Spacy/eval.spacy --output ner_with_uncleaned_sents_vectors.jsonl -g 0"
      ]
    },
    {
      "cell_type": "markdown",
      "source": [
        "### Word Embeddings from cleaned texts"
      ],
      "metadata": {
        "id": "IJxD7Fg-T9sW"
      }
    },
    {
      "cell_type": "markdown",
      "source": [
        "#### Create embeddings"
      ],
      "metadata": {
        "id": "wkoLCNe_UHy2"
      }
    },
    {
      "cell_type": "code",
      "source": [
        "dir_path = \"/content/drive/MyDrive/for_w2v/cleaned_sents\"\n",
        "\n",
        "sum_sents = []\n",
        "files = os.listdir(dir_path)\n",
        "for file in files:\n",
        "      data = srsly.read_jsonl(dir_path+\"/\"+file)\n",
        "      for col in data:\n",
        "        sent = col[\"text\"]\n",
        "        sum_sents.append(sent)\n",
        "\n",
        "sum_lists =[]\n",
        "for sent in sum_sents:\n",
        "  prep_text = gensim.utils.simple_preprocess(sent, deacc=False, min_len=2, max_len=25)\n",
        "  sum_lists.append(prep_text)"
      ],
      "metadata": {
        "id": "_AXU-0PcUJOI"
      },
      "execution_count": null,
      "outputs": []
    },
    {
      "cell_type": "code",
      "source": [
        "model = Word2Vec(sentences= sum_lists, sg=1, hs=1, vector_size=300, workers=12, epochs=5)\n",
        "# save model\n",
        "model.wv.save_word2vec_format('JSTOR_uncleaned_sents_model.txt')\n",
        "# load model\n",
        "KeyedVectors.load_word2vec_format(\"JSTOR_uncleaned_sents_model.txt\", binary=False)"
      ],
      "metadata": {
        "id": "ZWUZobaQUaVW"
      },
      "execution_count": null,
      "outputs": []
    },
    {
      "cell_type": "markdown",
      "metadata": {
        "id": "EBYKF2tGTL0H"
      },
      "source": [
        "#### ML with embeddings from cleaned text"
      ]
    },
    {
      "cell_type": "code",
      "execution_count": null,
      "metadata": {
        "colab": {
          "base_uri": "https://localhost:8080/"
        },
        "id": "456ZgkNgjJhY",
        "outputId": "33e5b56e-90a0-467d-a40f-a7653046815e"
      },
      "outputs": [
        {
          "output_type": "stream",
          "name": "stdout",
          "text": [
            "\u001b[38;5;4mℹ Creating blank nlp object for language 'en'\u001b[0m\n",
            "[2022-11-03 10:01:14,825] [INFO] Reading vectors from /content/drive/MyDrive/MODELS_W2V/JSTOR_cleaned_sents_model_300.txt\n",
            "INFO:spacy:Reading vectors from /content/drive/MyDrive/MODELS_W2V/JSTOR_cleaned_sents_model_300.txt\n",
            "147273it [00:11, 13313.12it/s]\n",
            "[2022-11-03 10:01:27,119] [INFO] Loaded vectors from /content/drive/MyDrive/MODELS_W2V/JSTOR_cleaned_sents_model_300.txt\n",
            "INFO:spacy:Loaded vectors from /content/drive/MyDrive/MODELS_W2V/JSTOR_cleaned_sents_model_300.txt\n",
            "\u001b[38;5;2m✔ Successfully converted 147273 vectors\u001b[0m\n",
            "\u001b[38;5;2m✔ Saved nlp object with vectors to output directory. You can now use\n",
            "the path to it in your config as the 'vectors' setting in [initialize].\u001b[0m\n",
            "/content/cl_txt\n",
            "\u001b[38;5;3m⚠ To generate a more effective transformer-based config (GPU-only),\n",
            "install the spacy-transformers package and re-run this command. The config\n",
            "generated now does not use transformers.\u001b[0m\n",
            "\u001b[38;5;4mℹ Generated config template specific for your use case\u001b[0m\n",
            "- Language: en\n",
            "- Pipeline: ner\n",
            "- Optimize for: accuracy\n",
            "- Hardware: CPU\n",
            "- Transformer: None\n",
            "\u001b[38;5;2m✔ Auto-filled config with all values\u001b[0m\n",
            "\u001b[38;5;2m✔ Saved config\u001b[0m\n",
            "ner.cfg\n",
            "You can now add your data and train your pipeline:\n",
            "python -m spacy train ner.cfg --paths.train ./train.spacy --paths.dev ./dev.spacy\n"
          ]
        }
      ],
      "source": [
        "import spacy\n",
        "\n",
        "!python -m spacy init vectors en /content/drive/MyDrive/MODELS_W2V/JSTOR_cleaned_sents_model_300.txt ./cl_txt --name JSTOR_cleaned_model\n",
        "\n",
        "!python -m spacy init config -p ner -o accuracy ner.cfg\n",
        "\n",
        "nlp = spacy.load(\"./cl_txt\")\n",
        "nlp.to_disk(\"./cl_txt\")"
      ]
    },
    {
      "cell_type": "code",
      "execution_count": null,
      "metadata": {
        "colab": {
          "base_uri": "https://localhost:8080/"
        },
        "id": "ZgxG_SEWjuKD",
        "outputId": "20ae55f1-b295-413b-d446-ef488d2f6f57"
      },
      "outputs": [
        {
          "output_type": "stream",
          "name": "stdout",
          "text": [
            "\u001b[38;5;4mℹ Saving to output directory: cl_txt\u001b[0m\n",
            "\u001b[38;5;4mℹ Using GPU: 0\u001b[0m\n",
            "\u001b[1m\n",
            "=========================== Initializing pipeline ===========================\u001b[0m\n",
            "[2022-11-03 10:02:15,606] [INFO] Set up nlp object from config\n",
            "INFO:spacy:Set up nlp object from config\n",
            "[2022-11-03 10:02:15,618] [INFO] Pipeline: ['tok2vec', 'ner']\n",
            "INFO:spacy:Pipeline: ['tok2vec', 'ner']\n",
            "[2022-11-03 10:02:15,622] [INFO] Created vocabulary\n",
            "INFO:spacy:Created vocabulary\n",
            "[2022-11-03 10:02:16,465] [INFO] Added vectors: ./cl_txt\n",
            "INFO:spacy:Added vectors: ./cl_txt\n",
            "[2022-11-03 10:02:17,071] [INFO] Finished initializing nlp object\n",
            "INFO:spacy:Finished initializing nlp object\n",
            "[2022-11-03 10:02:18,900] [INFO] Initialized pipeline components: ['tok2vec', 'ner']\n",
            "INFO:spacy:Initialized pipeline components: ['tok2vec', 'ner']\n",
            "\u001b[38;5;2m✔ Initialized pipeline\u001b[0m\n",
            "\u001b[1m\n",
            "============================= Training pipeline =============================\u001b[0m\n",
            "\u001b[38;5;4mℹ Pipeline: ['tok2vec', 'ner']\u001b[0m\n",
            "\u001b[38;5;4mℹ Initial learn rate: 0.001\u001b[0m\n",
            "E    #       LOSS TOK2VEC  LOSS NER  ENTS_F  ENTS_P  ENTS_R  SCORE \n",
            "---  ------  ------------  --------  ------  ------  ------  ------\n",
            "  0       0          0.00     44.50    0.00    0.00    0.00    0.00\n",
            "  0     200         68.54   1219.29   45.71   40.68   52.17    0.46\n",
            "  1     400         12.40    678.94   38.36   51.85   30.43    0.38\n",
            "  2     600         20.86    710.68   48.10   57.58   41.30    0.48\n",
            "  3     800         26.76    633.10   37.97   45.45   32.61    0.38\n",
            "  5    1000         49.01    444.65   34.67   44.83   28.26    0.35\n",
            "  7    1200        798.75    456.96   43.37   48.65   39.13    0.43\n",
            " 10    1400        192.40    324.76   46.67   47.73   45.65    0.47\n",
            " 13    1600        138.27    215.00   43.37   48.65   39.13    0.43\n",
            " 17    1800        583.34    168.62   41.56   51.61   34.78    0.42\n",
            " 22    2000        308.74    153.98   43.90   50.00   39.13    0.44\n",
            " 28    2200        238.78    111.91   46.34   52.78   41.30    0.46\n",
            "\u001b[38;5;2m✔ Saved pipeline to output directory\u001b[0m\n",
            "cl_txt/model-last\n"
          ]
        }
      ],
      "source": [
        "!python -m spacy train /content/cl_txt/ner.cfg --paths.train ./Spacy/train.spacy --paths.dev ./Spacy/dev.spacy --output ./cl_txt/ --paths.vectors ./cl_txt -g 0"
      ]
    },
    {
      "cell_type": "code",
      "execution_count": null,
      "metadata": {
        "colab": {
          "base_uri": "https://localhost:8080/"
        },
        "id": "iOut46wYj3Kq",
        "outputId": "b6dd8a19-648b-4e0a-bafc-98e798a935f2"
      },
      "outputs": [
        {
          "output_type": "stream",
          "name": "stdout",
          "text": [
            "\u001b[38;5;4mℹ Using GPU: 0\u001b[0m\n",
            "\u001b[1m\n",
            "================================== Results ==================================\u001b[0m\n",
            "\n",
            "TOK     100.00\n",
            "NER P   40.43 \n",
            "NER R   26.03 \n",
            "NER F   31.67 \n",
            "SPEED   5830  \n",
            "\n",
            "\u001b[1m\n",
            "=============================== NER (per type) ===============================\u001b[0m\n",
            "\n",
            "             P       R       F\n",
            "RESULT   40.43   26.03   31.67\n",
            "\n",
            "\u001b[38;5;2m✔ Saved results to ner_with_cleaned_sents_vectors.jsonl\u001b[0m\n"
          ]
        }
      ],
      "source": [
        "!python -m spacy evaluate ./cl_txt/model-best ./Spacy/eval.spacy --output ner_with_cleaned_sents_vectors.jsonl -g 0"
      ]
    },
    {
      "cell_type": "markdown",
      "source": [
        "## Deep Learning using BERT & ROBERTa language models "
      ],
      "metadata": {
        "id": "m0-r3c_AUvn6"
      }
    },
    {
      "cell_type": "code",
      "execution_count": null,
      "metadata": {
        "colab": {
          "base_uri": "https://localhost:8080/"
        },
        "id": "u1w9hVeZwwdq",
        "outputId": "2adc733f-1e42-40e1-8420-d09f10909a01"
      },
      "outputs": [
        {
          "output_type": "stream",
          "name": "stdout",
          "text": [
            "\u001b[38;5;2m✔ Auto-filled config with all values\u001b[0m\n",
            "\u001b[38;5;2m✔ Saved config\u001b[0m\n",
            "/content/config-v3.4.cfg\n",
            "You can now add your data and train your pipeline:\n",
            "python -m spacy train config-v3.4.cfg --paths.train ./train.spacy --paths.dev ./dev.spacy\n"
          ]
        }
      ],
      "source": [
        "!python -m spacy init fill-config /content/base_config_trf_bert.cfg /content/config-v3.4.cfg"
      ]
    },
    {
      "cell_type": "code",
      "execution_count": null,
      "metadata": {
        "colab": {
          "base_uri": "https://localhost:8080/"
        },
        "id": "kheHlxwayzAG",
        "outputId": "dcc3da6b-d0c8-437e-b6de-1f02d1cad0fd"
      },
      "outputs": [
        {
          "output_type": "stream",
          "name": "stdout",
          "text": [
            "\u001b[38;5;2m✔ Created output directory: /content/ACTIVITY_3785_bert\u001b[0m\n",
            "\u001b[38;5;4mℹ Saving to output directory: /content/ACTIVITY_3785_bert\u001b[0m\n",
            "\u001b[38;5;4mℹ Using GPU: 0\u001b[0m\n",
            "\u001b[1m\n",
            "=========================== Initializing pipeline ===========================\u001b[0m\n",
            "[2022-11-07 09:40:11,559] [INFO] Set up nlp object from config\n",
            "INFO:spacy:Set up nlp object from config\n",
            "[2022-11-07 09:40:11,569] [INFO] Pipeline: ['transformer', 'ner']\n",
            "INFO:spacy:Pipeline: ['transformer', 'ner']\n",
            "[2022-11-07 09:40:11,573] [INFO] Created vocabulary\n",
            "INFO:spacy:Created vocabulary\n",
            "[2022-11-07 09:40:11,574] [INFO] Finished initializing nlp object\n",
            "INFO:spacy:Finished initializing nlp object\n",
            "Downloading: 100% 28.0/28.0 [00:00<00:00, 23.7kB/s]\n",
            "Downloading: 100% 570/570 [00:00<00:00, 452kB/s]\n",
            "Downloading: 100% 226k/226k [00:00<00:00, 677kB/s]\n",
            "Downloading: 100% 455k/455k [00:00<00:00, 1.09MB/s]\n",
            "Downloading: 100% 420M/420M [00:06<00:00, 69.4MB/s]\n",
            "Some weights of the model checkpoint at bert-base-uncased were not used when initializing BertModel: ['cls.seq_relationship.weight', 'cls.predictions.bias', 'cls.predictions.transform.LayerNorm.weight', 'cls.seq_relationship.bias', 'cls.predictions.transform.dense.bias', 'cls.predictions.decoder.weight', 'cls.predictions.transform.LayerNorm.bias', 'cls.predictions.transform.dense.weight']\n",
            "- This IS expected if you are initializing BertModel from the checkpoint of a model trained on another task or with another architecture (e.g. initializing a BertForSequenceClassification model from a BertForPreTraining model).\n",
            "- This IS NOT expected if you are initializing BertModel from the checkpoint of a model that you expect to be exactly identical (initializing a BertForSequenceClassification model from a BertForSequenceClassification model).\n",
            "[2022-11-07 09:40:37,765] [INFO] Initialized pipeline components: ['transformer', 'ner']\n",
            "INFO:spacy:Initialized pipeline components: ['transformer', 'ner']\n",
            "\u001b[38;5;2m✔ Initialized pipeline\u001b[0m\n",
            "\u001b[1m\n",
            "============================= Training pipeline =============================\u001b[0m\n",
            "\u001b[38;5;4mℹ Pipeline: ['transformer', 'ner']\u001b[0m\n",
            "\u001b[38;5;4mℹ Initial learn rate: 0.0\u001b[0m\n",
            "E    #       LOSS TRANS...  LOSS NER  ENTS_F  ENTS_P  ENTS_R  SCORE \n",
            "---  ------  -------------  --------  ------  ------  ------  ------\n",
            "  0       0        1936.62    432.35    0.47    0.28    1.39    0.00\n",
            "  2     200       68739.73  30340.19   70.20   67.09   73.61    0.70\n",
            "  5     400        2205.68   1964.67   76.49   77.30   75.69    0.76\n",
            "  8     600        1113.78   1087.92   80.82   79.73   81.94    0.81\n",
            " 10     800         517.74    453.62   79.05   76.97   81.25    0.79\n",
            " 13    1000         345.68    277.77   74.05   73.79   74.31    0.74\n",
            " 16    1200         268.92    200.35   77.82   76.51   79.17    0.78\n",
            " 18    1400         168.99    143.15   76.98   76.19   77.78    0.77\n",
            " 21    1600         200.29    135.05   76.87   75.33   78.47    0.77\n",
            " 24    1800         122.45     92.30   77.03   75.00   79.17    0.77\n",
            " 26    2000          99.89     76.10   75.60   74.83   76.39    0.76\n",
            " 29    2200         106.41     68.20   77.70   75.66   79.86    0.78\n",
            "\u001b[38;5;2m✔ Saved pipeline to output directory\u001b[0m\n",
            "/content/ACTIVITY_3785_bert/model-last\n"
          ]
        }
      ],
      "source": [
        "!python -m spacy train /content/config-v3.4.cfg --paths.train /content/Spacy/train.spacy --paths.dev /content/Spacy/dev.spacy --output /content/ACTIVITY_3785_bert -g 0"
      ]
    },
    {
      "cell_type": "code",
      "execution_count": null,
      "metadata": {
        "colab": {
          "base_uri": "https://localhost:8080/"
        },
        "id": "nw-T9FRiAiWJ",
        "outputId": "911fc2e6-2981-42fc-8b78-8803a6fe2214"
      },
      "outputs": [
        {
          "output_type": "stream",
          "name": "stdout",
          "text": [
            "\u001b[38;5;4mℹ Using GPU: 0\u001b[0m\n",
            "\u001b[1m\n",
            "================================== Results ==================================\u001b[0m\n",
            "\n",
            "TOK     100.00\n",
            "NER P   77.73 \n",
            "NER R   81.65 \n",
            "NER F   79.64 \n",
            "SPEED   5061  \n",
            "\n",
            "\u001b[1m\n",
            "=============================== NER (per type) ===============================\u001b[0m\n",
            "\n",
            "               P       R       F\n",
            "ACTIVITY   77.73   81.65   79.64\n",
            "\n",
            "\u001b[38;5;2m✔ Saved results to ner_transformers.jsonl\u001b[0m\n"
          ]
        }
      ],
      "source": [
        "!python -m spacy evaluate /content/ACTIVITY_3785_bert/model-best ./Spacy/eval.spacy --output ner_transformers.jsonl -g 0"
      ]
    }
  ]
}